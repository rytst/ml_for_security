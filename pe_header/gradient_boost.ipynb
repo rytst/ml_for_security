{
 "cells": [
  {
   "cell_type": "code",
   "execution_count": 1,
   "id": "7b1e193b-8ff7-4cb7-952e-1baf5e2a25ec",
   "metadata": {},
   "outputs": [],
   "source": [
    "import polars as pl\n",
    "\n",
    "MalwareDataset = pl.read_csv(\n",
    "    \"../data/MalwareData.csv\",\n",
    "    separator='|',\n",
    "    schema_overrides={\n",
    "        \"ImageBase\": pl.UInt64 # Use unsigned 64-bit integer\n",
    "    }\n",
    ")"
   ]
  },
  {
   "cell_type": "code",
   "execution_count": 2,
   "id": "efb4eb8f-5a93-47d3-be66-c7db8f0530ce",
   "metadata": {},
   "outputs": [],
   "source": [
    "import numpy as np\n",
    "import sklearn\n",
    "from sklearn.feature_selection import SelectFromModel\n",
    "from sklearn.ensemble import ExtraTreesClassifier\n",
    "from sklearn.model_selection import train_test_split, cross_validate\n",
    "from sklearn import model_selection"
   ]
  },
  {
   "cell_type": "code",
   "execution_count": 3,
   "id": "f81f2089-48bb-460a-b754-014ff0d35558",
   "metadata": {},
   "outputs": [],
   "source": [
    "MalwareDataset_drop = MalwareDataset.drop([\"Name\", \"md5\", \"legitimate\"]) # legitimate is target\n",
    "X = MalwareDataset_drop"
   ]
  },
  {
   "cell_type": "code",
   "execution_count": 4,
   "id": "d48f7c3b-f9fb-499c-af13-71303d890ecc",
   "metadata": {},
   "outputs": [],
   "source": [
    "y = MalwareDataset[\"legitimate\"]"
   ]
  },
  {
   "cell_type": "markdown",
   "id": "40a5a675-4bc8-481d-9611-a8ff4afe487d",
   "metadata": {},
   "source": [
    "## Selecting features"
   ]
  },
  {
   "cell_type": "code",
   "execution_count": 5,
   "id": "19be4727-2086-465e-a653-b232dd80e7e5",
   "metadata": {},
   "outputs": [],
   "source": [
    "# ExtraTreesClassifier\n",
    "FeatSelect = ExtraTreesClassifier().fit(X, y)\n",
    "Model = SelectFromModel(FeatSelect, prefit=True)\n",
    "feature_idx = Model.get_support()\n",
    "feature_name = X[feature_idx].columns"
   ]
  },
  {
   "cell_type": "code",
   "execution_count": 6,
   "id": "f8b7d000-68c6-4429-8dea-e0e9d6f2a6cf",
   "metadata": {},
   "outputs": [
    {
     "name": "stderr",
     "output_type": "stream",
     "text": [
      "/home/rytst/dev/ml_for_security/venv/lib/python3.12/site-packages/sklearn/base.py:486: UserWarning: X has feature names, but SelectFromModel was fitted without feature names\n",
      "  warnings.warn(\n"
     ]
    }
   ],
   "source": [
    "X = Model.transform(X)"
   ]
  },
  {
   "cell_type": "code",
   "execution_count": 7,
   "id": "a1bd7700-b7d4-481f-97e8-f708eb86aa4d",
   "metadata": {},
   "outputs": [],
   "source": [
    "X = pl.DataFrame(X)\n",
    "X.columns = feature_name"
   ]
  },
  {
   "cell_type": "markdown",
   "id": "c984e742-50a7-4f97-9ac5-0b2a05b92f1b",
   "metadata": {},
   "source": [
    "## Gradient Boosting Method"
   ]
  },
  {
   "cell_type": "code",
   "execution_count": 8,
   "id": "14c3694b-8c7a-4ead-a0cb-d9ad1a53eb9f",
   "metadata": {},
   "outputs": [],
   "source": [
    "from sklearn.ensemble import GradientBoostingClassifier\n",
    "import optuna"
   ]
  },
  {
   "cell_type": "code",
   "execution_count": 9,
   "id": "da7a9b18-3eee-40ea-ab74-151468d70220",
   "metadata": {},
   "outputs": [],
   "source": [
    "X_train, X_test, y_train, y_test = train_test_split(X, y, test_size=0.2, shuffle=True, random_state=42)"
   ]
  },
  {
   "cell_type": "code",
   "execution_count": 10,
   "id": "f5f40de7-dfc4-4649-810f-2c046652ddeb",
   "metadata": {},
   "outputs": [],
   "source": [
    "class Objective_GBC:\n",
    "    def __init__(self, X, y):\n",
    "        self.X = X\n",
    "        self.y = y\n",
    "    def __call__(self, trial):\n",
    "        params = {\n",
    "            \"max_depth\":     trial.suggest_int(\"max_depth\", 3, 10),\n",
    "            \"max_features\":  trial.suggest_categorical(\"max_features\", [\"log2\", \"sqrt\"]),\n",
    "            \"learning_rate\": trial.suggest_loguniform(\"learning_rate\", 1e-2, 1e-0),\n",
    "            \"criterion\":     trial.suggest_categorical(\"criterion\", [\"friedman_mse\", \"squared_error\"])\n",
    "        }\n",
    "        model = GradientBoostingClassifier(**params)\n",
    "        scores = cross_validate(\n",
    "            model,\n",
    "            X=self.X,\n",
    "            y=self.y,\n",
    "            cv=5,\n",
    "            n_jobs=-1,\n",
    "        )\n",
    "        return scores[\"test_score\"].mean()"
   ]
  },
  {
   "cell_type": "code",
   "execution_count": 11,
   "id": "c72f344f-5059-4927-a77a-c0c75ea75373",
   "metadata": {},
   "outputs": [
    {
     "name": "stderr",
     "output_type": "stream",
     "text": [
      "[I 2024-10-08 01:11:50,951] A new study created in memory with name: no-name-201f2129-119f-41e1-951e-474654b12557\n",
      "/tmp/ipykernel_30881/2878854718.py:9: FutureWarning: suggest_loguniform has been deprecated in v3.0.0. This feature will be removed in v6.0.0. See https://github.com/optuna/optuna/releases/tag/v3.0.0. Use suggest_float(..., log=True) instead.\n",
      "  \"learning_rate\": trial.suggest_loguniform(\"learning_rate\", 1e-2, 1e-0),\n",
      "[I 2024-10-08 01:12:05,704] Trial 0 finished with value: 0.990908844935704 and parameters: {'max_depth': 5, 'max_features': 'log2', 'learning_rate': 0.10682644356734664, 'criterion': 'friedman_mse'}. Best is trial 0 with value: 0.990908844935704.\n"
     ]
    }
   ],
   "source": [
    "objective = Objective_GBC(X_train, y_train)\n",
    "study = optuna.create_study(direction=\"maximize\")\n",
    "study.optimize(objective, n_trials=1)"
   ]
  },
  {
   "cell_type": "code",
   "execution_count": 12,
   "id": "261527d7-4a2e-4943-a38d-b43d8f77ac5a",
   "metadata": {},
   "outputs": [
    {
     "name": "stdout",
     "output_type": "stream",
     "text": [
      "{'max_depth': 5, 'max_features': 'log2', 'learning_rate': 0.10682644356734664, 'criterion': 'friedman_mse'}\n"
     ]
    }
   ],
   "source": [
    "print(study.best_params)"
   ]
  },
  {
   "cell_type": "code",
   "execution_count": 13,
   "id": "e953aec0-01d4-4a00-87a2-8d4d7b4439f1",
   "metadata": {},
   "outputs": [],
   "source": [
    "from sklearn.metrics import confusion_matrix\n",
    "from sklearn.metrics import accuracy_score"
   ]
  },
  {
   "cell_type": "code",
   "execution_count": 14,
   "id": "2c6f91ff-1d2b-46d4-a7a4-a1f83fcddf8b",
   "metadata": {},
   "outputs": [],
   "source": [
    "model = GradientBoostingClassifier(\n",
    "    **study.best_params\n",
    ")"
   ]
  },
  {
   "cell_type": "code",
   "execution_count": 15,
   "id": "0a78df3a-d5b1-4d8b-950f-9bc7865d3088",
   "metadata": {},
   "outputs": [
    {
     "name": "stdout",
     "output_type": "stream",
     "text": [
      "Accuracy: 99.16334661354583\n",
      "[[19122   128]\n",
      " [  103  8257]]\n"
     ]
    }
   ],
   "source": [
    "model.fit(X_train, y_train)\n",
    "pred = model.predict(X_test)\n",
    "\n",
    "print(\"Accuracy: {}\".format(100 * accuracy_score(y_test, pred)))\n",
    "print(confusion_matrix(y_test, pred))"
   ]
  },
  {
   "cell_type": "code",
   "execution_count": 16,
   "id": "c26bd938-66a1-4df4-ba0c-8f373991811f",
   "metadata": {},
   "outputs": [],
   "source": [
    "feat_importance = pl.DataFrame({\n",
    "    \"feature\": X.columns,\n",
    "    \"feature importance\": model.feature_importances_ \n",
    "}).sort(\"feature importance\")"
   ]
  },
  {
   "cell_type": "code",
   "execution_count": 17,
   "id": "ff90a903-aac7-48f6-8331-4f7cd24d4750",
   "metadata": {},
   "outputs": [
    {
     "data": {
      "image/png": "[encoded data removed]",
      "text/plain": [
       "<Figure size 640x480 with 1 Axes>"
      ]
     },
     "metadata": {},
     "output_type": "display_data"
    }
   ],
   "source": [
    "import matplotlib.pyplot as plt\n",
    "\n",
    "fig, ax = plt.subplots()\n",
    "ax.barh(feat_importance[\"feature\"], feat_importance[\"feature importance\"], align='center')\n",
    "plt.show()"
   ]
  },
  {
   "cell_type": "code",
   "execution_count": null,
   "id": "98beea9d-9f79-4096-8a82-e15137fc03ec",
   "metadata": {},
   "outputs": [],
   "source": []
  }
 ],
 "metadata": {
  "kernelspec": {
   "display_name": "Python 3 (ipykernel)",
   "language": "python",
   "name": "python3"
  },
  "language_info": {
   "codemirror_mode": {
    "name": "ipython",
    "version": 3
   },
   "file_extension": ".py",
   "mimetype": "text/x-python",
   "name": "python",
   "nbconvert_exporter": "python",
   "pygments_lexer": "ipython3",
   "version": "3.12.6"
  }
 },
 "nbformat": 4,
 "nbformat_minor": 5
}
