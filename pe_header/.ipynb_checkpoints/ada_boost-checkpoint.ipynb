{
 "cells": [
  {
   "cell_type": "code",
   "execution_count": 1,
   "id": "c2ff24a8-31e7-49bf-bc8e-58e63b9e8151",
   "metadata": {},
   "outputs": [],
   "source": [
    "import polars as pl\n",
    "\n",
    "MalwareDataset = pl.read_csv(\n",
    "    \"../data/MalwareData.csv\",\n",
    "    separator='|',\n",
    "    schema_overrides={\n",
    "        \"ImageBase\": pl.UInt64 # Use unsigned 64-bit integer\n",
    "    }\n",
    ")"
   ]
  },
  {
   "cell_type": "code",
   "execution_count": 2,
   "id": "4d2dab19-29c6-41aa-8f59-9fad4d1a71df",
   "metadata": {},
   "outputs": [],
   "source": [
    "import numpy as np\n",
    "import sklearn\n",
    "from sklearn.feature_selection import SelectFromModel\n",
    "from sklearn.ensemble import ExtraTreesClassifier\n",
    "from sklearn.model_selection import train_test_split\n",
    "from sklearn import model_selection"
   ]
  },
  {
   "cell_type": "code",
   "execution_count": 3,
   "id": "8378f353-0b44-4447-8eba-768545e70903",
   "metadata": {},
   "outputs": [],
   "source": [
    "MalwareDataset_drop = MalwareDataset.drop([\"Name\", \"md5\", \"legitimate\"]) # legitimate is target\n",
    "X = MalwareDataset_drop"
   ]
  },
  {
   "cell_type": "code",
   "execution_count": 4,
   "id": "537e69c3-71ba-4fff-808e-55c78125d645",
   "metadata": {},
   "outputs": [],
   "source": [
    "y = MalwareDataset[\"legitimate\"]"
   ]
  },
  {
   "cell_type": "markdown",
   "id": "1dd9636b-a266-4e70-9e7e-1834a9f7faa4",
   "metadata": {},
   "source": [
    "## Selecting features"
   ]
  },
  {
   "cell_type": "code",
   "execution_count": 5,
   "id": "e6da0f2b-0f8b-4a41-962c-ef0289d946ef",
   "metadata": {},
   "outputs": [],
   "source": [
    "# ExtraTreesClassifier\n",
    "FeatSelect = ExtraTreesClassifier().fit(X, y)\n",
    "Model = SelectFromModel(FeatSelect, prefit=True)\n",
    "feature_idx = Model.get_support()\n",
    "feature_name = X[feature_idx].columns"
   ]
  },
  {
   "cell_type": "code",
   "execution_count": 6,
   "id": "098a7ea7-8814-4690-8c95-83aedc8eef4b",
   "metadata": {},
   "outputs": [
    {
     "name": "stderr",
     "output_type": "stream",
     "text": [
      "/home/rytst/dev/ml_for_security/venv/lib/python3.12/site-packages/sklearn/base.py:486: UserWarning: X has feature names, but SelectFromModel was fitted without feature names\n",
      "  warnings.warn(\n"
     ]
    }
   ],
   "source": [
    "X = Model.transform(X)"
   ]
  },
  {
   "cell_type": "code",
   "execution_count": 7,
   "id": "53d3d8ee-c6b5-42fb-901a-ce9f949f1b10",
   "metadata": {},
   "outputs": [],
   "source": [
    "X = pl.DataFrame(X)\n",
    "X.columns = feature_name"
   ]
  },
  {
   "cell_type": "markdown",
   "id": "7dc4dc61-847c-4544-8235-853828fedec3",
   "metadata": {},
   "source": [
    "## Ada Boost"
   ]
  },
  {
   "cell_type": "code",
   "execution_count": 8,
   "id": "6ea6976d-2e8e-422a-beb6-f76ccbedef98",
   "metadata": {},
   "outputs": [],
   "source": [
    "from sklearn.ensemble import AdaBoostClassifier\n",
    "from sklearn.model_selection import train_test_split, cross_validate\n",
    "import optuna"
   ]
  },
  {
   "cell_type": "code",
   "execution_count": 9,
   "id": "f884b9dd-db59-4367-8db8-7d8f481aeb67",
   "metadata": {},
   "outputs": [],
   "source": [
    "X_train, X_test, y_train, y_test = train_test_split(X, y, shuffle=True, random_state=42)"
   ]
  },
  {
   "cell_type": "code",
   "execution_count": 10,
   "id": "5ed1804d-4bb8-4975-afac-13241a9d63ca",
   "metadata": {},
   "outputs": [],
   "source": [
    "class ObjectiveABC:\n",
    "    def __init__(self, X, y):\n",
    "        self.X = X\n",
    "        self.y = y\n",
    "        \n",
    "    def __call__(self, trial):\n",
    "        params = {\n",
    "            \"algorithm\": trial.suggest_categorical(\"algorithm\", [\"SAMME\", \"SAMME.R\"]),\n",
    "            \"learning_rate\": trial.suggest_loguniform(\"learning_rate\", 1e-2, 1e-0)\n",
    "        }\n",
    "\n",
    "        model = AdaBoostClassifier(**params)\n",
    "        scores = cross_validate(\n",
    "            model,\n",
    "            X=self.X,\n",
    "            y=self.y,\n",
    "            cv=5,\n",
    "            n_jobs=-1\n",
    "        )\n",
    "        return scores[\"test_score\"].mean()"
   ]
  },
  {
   "cell_type": "code",
   "execution_count": 11,
   "id": "4bef9d54-66d7-4b7f-b701-6297054cd9aa",
   "metadata": {},
   "outputs": [
    {
     "name": "stderr",
     "output_type": "stream",
     "text": [
      "[I 2024-10-08 01:46:08,794] A new study created in memory with name: no-name-6e8f5290-e730-41ed-a251-629329c66a36\n",
      "/tmp/ipykernel_34516/435131687.py:9: FutureWarning: suggest_loguniform has been deprecated in v3.0.0. This feature will be removed in v6.0.0. See https://github.com/optuna/optuna/releases/tag/v3.0.0. Use suggest_float(..., log=True) instead.\n",
      "  \"learning_rate\": trial.suggest_loguniform(\"learning_rate\", 1e-2, 1e-0)\n",
      "/home/rytst/dev/ml_for_security/venv/lib/python3.12/site-packages/sklearn/ensemble/_weight_boosting.py:527: FutureWarning: The SAMME.R algorithm (the default) is deprecated and will be removed in 1.6. Use the SAMME algorithm to circumvent this warning.\n",
      "  warnings.warn(\n",
      "/home/rytst/dev/ml_for_security/venv/lib/python3.12/site-packages/sklearn/ensemble/_weight_boosting.py:527: FutureWarning: The SAMME.R algorithm (the default) is deprecated and will be removed in 1.6. Use the SAMME algorithm to circumvent this warning.\n",
      "  warnings.warn(\n",
      "/home/rytst/dev/ml_for_security/venv/lib/python3.12/site-packages/sklearn/ensemble/_weight_boosting.py:527: FutureWarning: The SAMME.R algorithm (the default) is deprecated and will be removed in 1.6. Use the SAMME algorithm to circumvent this warning.\n",
      "  warnings.warn(\n",
      "/home/rytst/dev/ml_for_security/venv/lib/python3.12/site-packages/sklearn/ensemble/_weight_boosting.py:527: FutureWarning: The SAMME.R algorithm (the default) is deprecated and will be removed in 1.6. Use the SAMME algorithm to circumvent this warning.\n",
      "  warnings.warn(\n",
      "/home/rytst/dev/ml_for_security/venv/lib/python3.12/site-packages/sklearn/ensemble/_weight_boosting.py:527: FutureWarning: The SAMME.R algorithm (the default) is deprecated and will be removed in 1.6. Use the SAMME algorithm to circumvent this warning.\n",
      "  warnings.warn(\n",
      "[I 2024-10-08 01:46:15,932] Trial 0 finished with value: 0.9833969189163085 and parameters: {'algorithm': 'SAMME.R', 'learning_rate': 0.12084365995203217}. Best is trial 0 with value: 0.9833969189163085.\n",
      "/tmp/ipykernel_34516/435131687.py:9: FutureWarning: suggest_loguniform has been deprecated in v3.0.0. This feature will be removed in v6.0.0. See https://github.com/optuna/optuna/releases/tag/v3.0.0. Use suggest_float(..., log=True) instead.\n",
      "  \"learning_rate\": trial.suggest_loguniform(\"learning_rate\", 1e-2, 1e-0)\n",
      "/home/rytst/dev/ml_for_security/venv/lib/python3.12/site-packages/sklearn/ensemble/_weight_boosting.py:527: FutureWarning: The SAMME.R algorithm (the default) is deprecated and will be removed in 1.6. Use the SAMME algorithm to circumvent this warning.\n",
      "  warnings.warn(\n",
      "/home/rytst/dev/ml_for_security/venv/lib/python3.12/site-packages/sklearn/ensemble/_weight_boosting.py:527: FutureWarning: The SAMME.R algorithm (the default) is deprecated and will be removed in 1.6. Use the SAMME algorithm to circumvent this warning.\n",
      "  warnings.warn(\n",
      "/home/rytst/dev/ml_for_security/venv/lib/python3.12/site-packages/sklearn/ensemble/_weight_boosting.py:527: FutureWarning: The SAMME.R algorithm (the default) is deprecated and will be removed in 1.6. Use the SAMME algorithm to circumvent this warning.\n",
      "  warnings.warn(\n",
      "/home/rytst/dev/ml_for_security/venv/lib/python3.12/site-packages/sklearn/ensemble/_weight_boosting.py:527: FutureWarning: The SAMME.R algorithm (the default) is deprecated and will be removed in 1.6. Use the SAMME algorithm to circumvent this warning.\n",
      "  warnings.warn(\n",
      "/home/rytst/dev/ml_for_security/venv/lib/python3.12/site-packages/sklearn/ensemble/_weight_boosting.py:527: FutureWarning: The SAMME.R algorithm (the default) is deprecated and will be removed in 1.6. Use the SAMME algorithm to circumvent this warning.\n",
      "  warnings.warn(\n",
      "[I 2024-10-08 01:46:20,829] Trial 1 finished with value: 0.9546143816100836 and parameters: {'algorithm': 'SAMME.R', 'learning_rate': 0.018315026442014874}. Best is trial 0 with value: 0.9833969189163085.\n",
      "/tmp/ipykernel_34516/435131687.py:9: FutureWarning: suggest_loguniform has been deprecated in v3.0.0. This feature will be removed in v6.0.0. See https://github.com/optuna/optuna/releases/tag/v3.0.0. Use suggest_float(..., log=True) instead.\n",
      "  \"learning_rate\": trial.suggest_loguniform(\"learning_rate\", 1e-2, 1e-0)\n",
      "/home/rytst/dev/ml_for_security/venv/lib/python3.12/site-packages/sklearn/ensemble/_weight_boosting.py:527: FutureWarning: The SAMME.R algorithm (the default) is deprecated and will be removed in 1.6. Use the SAMME algorithm to circumvent this warning.\n",
      "  warnings.warn(\n",
      "/home/rytst/dev/ml_for_security/venv/lib/python3.12/site-packages/sklearn/ensemble/_weight_boosting.py:527: FutureWarning: The SAMME.R algorithm (the default) is deprecated and will be removed in 1.6. Use the SAMME algorithm to circumvent this warning.\n",
      "  warnings.warn(\n",
      "/home/rytst/dev/ml_for_security/venv/lib/python3.12/site-packages/sklearn/ensemble/_weight_boosting.py:527: FutureWarning: The SAMME.R algorithm (the default) is deprecated and will be removed in 1.6. Use the SAMME algorithm to circumvent this warning.\n",
      "  warnings.warn(\n",
      "/home/rytst/dev/ml_for_security/venv/lib/python3.12/site-packages/sklearn/ensemble/_weight_boosting.py:527: FutureWarning: The SAMME.R algorithm (the default) is deprecated and will be removed in 1.6. Use the SAMME algorithm to circumvent this warning.\n",
      "  warnings.warn(\n",
      "/home/rytst/dev/ml_for_security/venv/lib/python3.12/site-packages/sklearn/ensemble/_weight_boosting.py:527: FutureWarning: The SAMME.R algorithm (the default) is deprecated and will be removed in 1.6. Use the SAMME algorithm to circumvent this warning.\n",
      "  warnings.warn(\n",
      "[I 2024-10-08 01:46:24,925] Trial 2 finished with value: 0.9798329067465108 and parameters: {'algorithm': 'SAMME.R', 'learning_rate': 0.05650876586420993}. Best is trial 0 with value: 0.9833969189163085.\n",
      "/tmp/ipykernel_34516/435131687.py:9: FutureWarning: suggest_loguniform has been deprecated in v3.0.0. This feature will be removed in v6.0.0. See https://github.com/optuna/optuna/releases/tag/v3.0.0. Use suggest_float(..., log=True) instead.\n",
      "  \"learning_rate\": trial.suggest_loguniform(\"learning_rate\", 1e-2, 1e-0)\n",
      "[I 2024-10-08 01:46:28,693] Trial 3 finished with value: 0.9836577002945864 and parameters: {'algorithm': 'SAMME', 'learning_rate': 0.2696337974028417}. Best is trial 3 with value: 0.9836577002945864.\n",
      "/tmp/ipykernel_34516/435131687.py:9: FutureWarning: suggest_loguniform has been deprecated in v3.0.0. This feature will be removed in v6.0.0. See https://github.com/optuna/optuna/releases/tag/v3.0.0. Use suggest_float(..., log=True) instead.\n",
      "  \"learning_rate\": trial.suggest_loguniform(\"learning_rate\", 1e-2, 1e-0)\n",
      "/home/rytst/dev/ml_for_security/venv/lib/python3.12/site-packages/sklearn/ensemble/_weight_boosting.py:527: FutureWarning: The SAMME.R algorithm (the default) is deprecated and will be removed in 1.6. Use the SAMME algorithm to circumvent this warning.\n",
      "  warnings.warn(\n",
      "/home/rytst/dev/ml_for_security/venv/lib/python3.12/site-packages/sklearn/ensemble/_weight_boosting.py:527: FutureWarning: The SAMME.R algorithm (the default) is deprecated and will be removed in 1.6. Use the SAMME algorithm to circumvent this warning.\n",
      "  warnings.warn(\n",
      "/home/rytst/dev/ml_for_security/venv/lib/python3.12/site-packages/sklearn/ensemble/_weight_boosting.py:527: FutureWarning: The SAMME.R algorithm (the default) is deprecated and will be removed in 1.6. Use the SAMME algorithm to circumvent this warning.\n",
      "  warnings.warn(\n",
      "/home/rytst/dev/ml_for_security/venv/lib/python3.12/site-packages/sklearn/ensemble/_weight_boosting.py:527: FutureWarning: The SAMME.R algorithm (the default) is deprecated and will be removed in 1.6. Use the SAMME algorithm to circumvent this warning.\n",
      "  warnings.warn(\n",
      "/home/rytst/dev/ml_for_security/venv/lib/python3.12/site-packages/sklearn/ensemble/_weight_boosting.py:527: FutureWarning: The SAMME.R algorithm (the default) is deprecated and will be removed in 1.6. Use the SAMME algorithm to circumvent this warning.\n",
      "  warnings.warn(\n",
      "[I 2024-10-08 01:46:33,390] Trial 4 finished with value: 0.979823248176945 and parameters: {'algorithm': 'SAMME.R', 'learning_rate': 0.05616229400169568}. Best is trial 3 with value: 0.9836577002945864.\n",
      "/tmp/ipykernel_34516/435131687.py:9: FutureWarning: suggest_loguniform has been deprecated in v3.0.0. This feature will be removed in v6.0.0. See https://github.com/optuna/optuna/releases/tag/v3.0.0. Use suggest_float(..., log=True) instead.\n",
      "  \"learning_rate\": trial.suggest_loguniform(\"learning_rate\", 1e-2, 1e-0)\n",
      "[I 2024-10-08 01:46:37,856] Trial 5 finished with value: 0.9839667745206935 and parameters: {'algorithm': 'SAMME', 'learning_rate': 0.7802797328127098}. Best is trial 5 with value: 0.9839667745206935.\n",
      "/tmp/ipykernel_34516/435131687.py:9: FutureWarning: suggest_loguniform has been deprecated in v3.0.0. This feature will be removed in v6.0.0. See https://github.com/optuna/optuna/releases/tag/v3.0.0. Use suggest_float(..., log=True) instead.\n",
      "  \"learning_rate\": trial.suggest_loguniform(\"learning_rate\", 1e-2, 1e-0)\n",
      "[I 2024-10-08 01:46:42,292] Trial 6 finished with value: 0.9836287245858888 and parameters: {'algorithm': 'SAMME', 'learning_rate': 0.5219010540851192}. Best is trial 5 with value: 0.9839667745206935.\n",
      "/tmp/ipykernel_34516/435131687.py:9: FutureWarning: suggest_loguniform has been deprecated in v3.0.0. This feature will be removed in v6.0.0. See https://github.com/optuna/optuna/releases/tag/v3.0.0. Use suggest_float(..., log=True) instead.\n",
      "  \"learning_rate\": trial.suggest_loguniform(\"learning_rate\", 1e-2, 1e-0)\n",
      "[I 2024-10-08 01:46:46,764] Trial 7 finished with value: 0.9841406287728788 and parameters: {'algorithm': 'SAMME', 'learning_rate': 0.6612083019978886}. Best is trial 7 with value: 0.9841406287728788.\n",
      "/tmp/ipykernel_34516/435131687.py:9: FutureWarning: suggest_loguniform has been deprecated in v3.0.0. This feature will be removed in v6.0.0. See https://github.com/optuna/optuna/releases/tag/v3.0.0. Use suggest_float(..., log=True) instead.\n",
      "  \"learning_rate\": trial.suggest_loguniform(\"learning_rate\", 1e-2, 1e-0)\n",
      "/home/rytst/dev/ml_for_security/venv/lib/python3.12/site-packages/sklearn/ensemble/_weight_boosting.py:527: FutureWarning: The SAMME.R algorithm (the default) is deprecated and will be removed in 1.6. Use the SAMME algorithm to circumvent this warning.\n",
      "  warnings.warn(\n",
      "/home/rytst/dev/ml_for_security/venv/lib/python3.12/site-packages/sklearn/ensemble/_weight_boosting.py:527: FutureWarning: The SAMME.R algorithm (the default) is deprecated and will be removed in 1.6. Use the SAMME algorithm to circumvent this warning.\n",
      "  warnings.warn(\n",
      "/home/rytst/dev/ml_for_security/venv/lib/python3.12/site-packages/sklearn/ensemble/_weight_boosting.py:527: FutureWarning: The SAMME.R algorithm (the default) is deprecated and will be removed in 1.6. Use the SAMME algorithm to circumvent this warning.\n",
      "  warnings.warn(\n",
      "/home/rytst/dev/ml_for_security/venv/lib/python3.12/site-packages/sklearn/ensemble/_weight_boosting.py:527: FutureWarning: The SAMME.R algorithm (the default) is deprecated and will be removed in 1.6. Use the SAMME algorithm to circumvent this warning.\n",
      "  warnings.warn(\n",
      "/home/rytst/dev/ml_for_security/venv/lib/python3.12/site-packages/sklearn/ensemble/_weight_boosting.py:527: FutureWarning: The SAMME.R algorithm (the default) is deprecated and will be removed in 1.6. Use the SAMME algorithm to circumvent this warning.\n",
      "  warnings.warn(\n",
      "[I 2024-10-08 01:46:51,563] Trial 8 finished with value: 0.9849905828946733 and parameters: {'algorithm': 'SAMME.R', 'learning_rate': 0.3980021749132331}. Best is trial 8 with value: 0.9849905828946733.\n",
      "/tmp/ipykernel_34516/435131687.py:9: FutureWarning: suggest_loguniform has been deprecated in v3.0.0. This feature will be removed in v6.0.0. See https://github.com/optuna/optuna/releases/tag/v3.0.0. Use suggest_float(..., log=True) instead.\n",
      "  \"learning_rate\": trial.suggest_loguniform(\"learning_rate\", 1e-2, 1e-0)\n",
      "[I 2024-10-08 01:46:56,075] Trial 9 finished with value: 0.9545854059013861 and parameters: {'algorithm': 'SAMME', 'learning_rate': 0.011384124258690002}. Best is trial 8 with value: 0.9849905828946733.\n",
      "/tmp/ipykernel_34516/435131687.py:9: FutureWarning: suggest_loguniform has been deprecated in v3.0.0. This feature will be removed in v6.0.0. See https://github.com/optuna/optuna/releases/tag/v3.0.0. Use suggest_float(..., log=True) instead.\n",
      "  \"learning_rate\": trial.suggest_loguniform(\"learning_rate\", 1e-2, 1e-0)\n",
      "/home/rytst/dev/ml_for_security/venv/lib/python3.12/site-packages/sklearn/ensemble/_weight_boosting.py:527: FutureWarning: The SAMME.R algorithm (the default) is deprecated and will be removed in 1.6. Use the SAMME algorithm to circumvent this warning.\n",
      "  warnings.warn(\n",
      "/home/rytst/dev/ml_for_security/venv/lib/python3.12/site-packages/sklearn/ensemble/_weight_boosting.py:527: FutureWarning: The SAMME.R algorithm (the default) is deprecated and will be removed in 1.6. Use the SAMME algorithm to circumvent this warning.\n",
      "  warnings.warn(\n",
      "/home/rytst/dev/ml_for_security/venv/lib/python3.12/site-packages/sklearn/ensemble/_weight_boosting.py:527: FutureWarning: The SAMME.R algorithm (the default) is deprecated and will be removed in 1.6. Use the SAMME algorithm to circumvent this warning.\n",
      "  warnings.warn(\n",
      "/home/rytst/dev/ml_for_security/venv/lib/python3.12/site-packages/sklearn/ensemble/_weight_boosting.py:527: FutureWarning: The SAMME.R algorithm (the default) is deprecated and will be removed in 1.6. Use the SAMME algorithm to circumvent this warning.\n",
      "  warnings.warn(\n",
      "/home/rytst/dev/ml_for_security/venv/lib/python3.12/site-packages/sklearn/ensemble/_weight_boosting.py:527: FutureWarning: The SAMME.R algorithm (the default) is deprecated and will be removed in 1.6. Use the SAMME algorithm to circumvent this warning.\n",
      "  warnings.warn(\n",
      "[I 2024-10-08 01:47:01,034] Trial 10 finished with value: 0.9840537016467861 and parameters: {'algorithm': 'SAMME.R', 'learning_rate': 0.20912831644447977}. Best is trial 8 with value: 0.9849905828946733.\n",
      "/tmp/ipykernel_34516/435131687.py:9: FutureWarning: suggest_loguniform has been deprecated in v3.0.0. This feature will be removed in v6.0.0. See https://github.com/optuna/optuna/releases/tag/v3.0.0. Use suggest_float(..., log=True) instead.\n",
      "  \"learning_rate\": trial.suggest_loguniform(\"learning_rate\", 1e-2, 1e-0)\n",
      "[I 2024-10-08 01:47:05,504] Trial 11 finished with value: 0.9840826773554836 and parameters: {'algorithm': 'SAMME', 'learning_rate': 0.9103730479826134}. Best is trial 8 with value: 0.9849905828946733.\n",
      "/tmp/ipykernel_34516/435131687.py:9: FutureWarning: suggest_loguniform has been deprecated in v3.0.0. This feature will be removed in v6.0.0. See https://github.com/optuna/optuna/releases/tag/v3.0.0. Use suggest_float(..., log=True) instead.\n",
      "  \"learning_rate\": trial.suggest_loguniform(\"learning_rate\", 1e-2, 1e-0)\n",
      "/home/rytst/dev/ml_for_security/venv/lib/python3.12/site-packages/sklearn/ensemble/_weight_boosting.py:527: FutureWarning: The SAMME.R algorithm (the default) is deprecated and will be removed in 1.6. Use the SAMME algorithm to circumvent this warning.\n",
      "  warnings.warn(\n",
      "/home/rytst/dev/ml_for_security/venv/lib/python3.12/site-packages/sklearn/ensemble/_weight_boosting.py:527: FutureWarning: The SAMME.R algorithm (the default) is deprecated and will be removed in 1.6. Use the SAMME algorithm to circumvent this warning.\n",
      "  warnings.warn(\n",
      "/home/rytst/dev/ml_for_security/venv/lib/python3.12/site-packages/sklearn/ensemble/_weight_boosting.py:527: FutureWarning: The SAMME.R algorithm (the default) is deprecated and will be removed in 1.6. Use the SAMME algorithm to circumvent this warning.\n",
      "  warnings.warn(\n",
      "/home/rytst/dev/ml_for_security/venv/lib/python3.12/site-packages/sklearn/ensemble/_weight_boosting.py:527: FutureWarning: The SAMME.R algorithm (the default) is deprecated and will be removed in 1.6. Use the SAMME algorithm to circumvent this warning.\n",
      "  warnings.warn(\n",
      "/home/rytst/dev/ml_for_security/venv/lib/python3.12/site-packages/sklearn/ensemble/_weight_boosting.py:527: FutureWarning: The SAMME.R algorithm (the default) is deprecated and will be removed in 1.6. Use the SAMME algorithm to circumvent this warning.\n",
      "  warnings.warn(\n",
      "[I 2024-10-08 01:47:10,358] Trial 12 finished with value: 0.9842951658859322 and parameters: {'algorithm': 'SAMME.R', 'learning_rate': 0.3262676208990162}. Best is trial 8 with value: 0.9849905828946733.\n"
     ]
    }
   ],
   "source": [
    "objective = ObjectiveABC(X_train, y_train)\n",
    "study = optuna.create_study(direction=\"maximize\")\n",
    "study.optimize(objective, timeout=60)"
   ]
  },
  {
   "cell_type": "code",
   "execution_count": 12,
   "id": "e6268a64-09dd-4ee0-b75a-641545254266",
   "metadata": {},
   "outputs": [
    {
     "name": "stdout",
     "output_type": "stream",
     "text": [
      "{'algorithm': 'SAMME.R', 'learning_rate': 0.3980021749132331}\n"
     ]
    }
   ],
   "source": [
    "print(study.best_params)"
   ]
  },
  {
   "cell_type": "code",
   "execution_count": 13,
   "id": "1154e680-a326-49e6-b776-26acea838db8",
   "metadata": {},
   "outputs": [
    {
     "name": "stderr",
     "output_type": "stream",
     "text": [
      "/home/rytst/dev/ml_for_security/venv/lib/python3.12/site-packages/sklearn/ensemble/_weight_boosting.py:527: FutureWarning: The SAMME.R algorithm (the default) is deprecated and will be removed in 1.6. Use the SAMME algorithm to circumvent this warning.\n",
      "  warnings.warn(\n"
     ]
    },
    {
     "name": "stdout",
     "output_type": "stream",
     "text": [
      "Accuracy: 0.9860338433008808\n",
      "[[23897   183]\n",
      " [  299 10133]]\n"
     ]
    }
   ],
   "source": [
    "from sklearn.metrics import accuracy_score, confusion_matrix\n",
    "\n",
    "model = AdaBoostClassifier(**study.best_params)\n",
    "\n",
    "model.fit(X_train, y_train)\n",
    "\n",
    "pred = model.predict(X_test)\n",
    "\n",
    "print(\"Accuracy: {}\".format(accuracy_score(y_test, pred)))\n",
    "print(confusion_matrix(y_test, pred))"
   ]
  },
  {
   "cell_type": "code",
   "execution_count": 14,
   "id": "d9295ad0-c978-4bcc-9ca5-55bc8ee1a06e",
   "metadata": {},
   "outputs": [],
   "source": [
    "feat_importance = pl.DataFrame({\n",
    "    \"feature\": X.columns,\n",
    "    \"feature importance\": model.feature_importances_\n",
    "}).sort(\"feature importance\")"
   ]
  },
  {
   "cell_type": "code",
   "execution_count": 15,
   "id": "31ab5bd3-5a6f-41c9-9518-3bbfe142a510",
   "metadata": {},
   "outputs": [
    {
     "data": {
      "image/png": "[encoded data removed]",
      "text/plain": [
       "<Figure size 640x480 with 1 Axes>"
      ]
     },
     "metadata": {},
     "output_type": "display_data"
    }
   ],
   "source": [
    "import matplotlib.pyplot as plt\n",
    "\n",
    "fig, ax = plt.subplots()\n",
    "ax.barh(feat_importance[\"feature\"], feat_importance[\"feature importance\"], align='center')\n",
    "plt.show()"
   ]
  },
  {
   "cell_type": "code",
   "execution_count": null,
   "id": "39a9d530-0ea5-48c2-bc8c-de137b3dda3a",
   "metadata": {},
   "outputs": [],
   "source": []
  }
 ],
 "metadata": {
  "kernelspec": {
   "display_name": "Python 3 (ipykernel)",
   "language": "python",
   "name": "python3"
  },
  "language_info": {
   "codemirror_mode": {
    "name": "ipython",
    "version": 3
   },
   "file_extension": ".py",
   "mimetype": "text/x-python",
   "name": "python",
   "nbconvert_exporter": "python",
   "pygments_lexer": "ipython3",
   "version": "3.12.6"
  }
 },
 "nbformat": 4,
 "nbformat_minor": 5
}
