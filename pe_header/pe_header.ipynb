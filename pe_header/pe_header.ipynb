{
 "cells": [
  {
   "cell_type": "code",
   "execution_count": 1,
   "id": "585db721-243c-45dc-8d8c-b78a2565a66f",
   "metadata": {},
   "outputs": [],
   "source": [
    "import polars as pl\n",
    "\n",
    "MalwareDataset = pl.read_csv(\n",
    "    \"../data/MalwareData.csv\",\n",
    "    separator='|',\n",
    "    schema_overrides={\n",
    "        \"ImageBase\": pl.UInt64 # Use unsigned 64-bit integer\n",
    "    }\n",
    ")"
   ]
  },
  {
   "cell_type": "code",
   "execution_count": 2,
   "id": "fe716de5-2a39-48e4-bd99-9f87ac4d03f5",
   "metadata": {},
   "outputs": [
    {
     "data": {
      "text/html": [
       "<div><style>\n",
       ".dataframe > thead > tr,\n",
       ".dataframe > tbody > tr {\n",
       "  text-align: right;\n",
       "  white-space: pre-wrap;\n",
       "}\n",
       "</style>\n",
       "<small>shape: (5, 57)</small><table border=\"1\" class=\"dataframe\"><thead><tr><th>Name</th><th>md5</th><th>Machine</th><th>SizeOfOptionalHeader</th><th>Characteristics</th><th>MajorLinkerVersion</th><th>MinorLinkerVersion</th><th>SizeOfCode</th><th>SizeOfInitializedData</th><th>SizeOfUninitializedData</th><th>AddressOfEntryPoint</th><th>BaseOfCode</th><th>BaseOfData</th><th>ImageBase</th><th>SectionAlignment</th><th>FileAlignment</th><th>MajorOperatingSystemVersion</th><th>MinorOperatingSystemVersion</th><th>MajorImageVersion</th><th>MinorImageVersion</th><th>MajorSubsystemVersion</th><th>MinorSubsystemVersion</th><th>SizeOfImage</th><th>SizeOfHeaders</th><th>CheckSum</th><th>Subsystem</th><th>DllCharacteristics</th><th>SizeOfStackReserve</th><th>SizeOfStackCommit</th><th>SizeOfHeapReserve</th><th>SizeOfHeapCommit</th><th>LoaderFlags</th><th>NumberOfRvaAndSizes</th><th>SectionsNb</th><th>SectionsMeanEntropy</th><th>SectionsMinEntropy</th><th>SectionsMaxEntropy</th><th>SectionsMeanRawsize</th><th>SectionsMinRawsize</th><th>SectionMaxRawsize</th><th>SectionsMeanVirtualsize</th><th>SectionsMinVirtualsize</th><th>SectionMaxVirtualsize</th><th>ImportsNbDLL</th><th>ImportsNb</th><th>ImportsNbOrdinal</th><th>ExportNb</th><th>ResourcesNb</th><th>ResourcesMeanEntropy</th><th>ResourcesMinEntropy</th><th>ResourcesMaxEntropy</th><th>ResourcesMeanSize</th><th>ResourcesMinSize</th><th>ResourcesMaxSize</th><th>LoadConfigurationSize</th><th>VersionInformationSize</th><th>legitimate</th></tr><tr><td>str</td><td>str</td><td>i64</td><td>i64</td><td>i64</td><td>i64</td><td>i64</td><td>i64</td><td>i64</td><td>i64</td><td>i64</td><td>i64</td><td>i64</td><td>u64</td><td>i64</td><td>i64</td><td>i64</td><td>i64</td><td>i64</td><td>i64</td><td>i64</td><td>i64</td><td>i64</td><td>i64</td><td>i64</td><td>i64</td><td>i64</td><td>i64</td><td>i64</td><td>i64</td><td>i64</td><td>i64</td><td>i64</td><td>i64</td><td>f64</td><td>f64</td><td>f64</td><td>f64</td><td>i64</td><td>i64</td><td>f64</td><td>i64</td><td>i64</td><td>i64</td><td>i64</td><td>i64</td><td>i64</td><td>i64</td><td>f64</td><td>f64</td><td>f64</td><td>f64</td><td>i64</td><td>i64</td><td>i64</td><td>i64</td><td>i64</td></tr></thead><tbody><tr><td>&quot;memtest.exe&quot;</td><td>&quot;631ea355665f28d4707448e442fbf5…</td><td>332</td><td>224</td><td>258</td><td>9</td><td>0</td><td>361984</td><td>115712</td><td>0</td><td>6135</td><td>4096</td><td>372736</td><td>4194304</td><td>4096</td><td>512</td><td>0</td><td>0</td><td>0</td><td>0</td><td>1</td><td>0</td><td>1036288</td><td>1024</td><td>485887</td><td>16</td><td>1024</td><td>1048576</td><td>4096</td><td>1048576</td><td>4096</td><td>0</td><td>16</td><td>8</td><td>5.766807</td><td>3.60743</td><td>7.221051</td><td>59712.0</td><td>1024</td><td>325120</td><td>126875.875</td><td>896</td><td>551848</td><td>0</td><td>0</td><td>0</td><td>0</td><td>4</td><td>3.262823</td><td>2.568844</td><td>3.537939</td><td>8797.0</td><td>216</td><td>18032</td><td>0</td><td>16</td><td>1</td></tr><tr><td>&quot;ose.exe&quot;</td><td>&quot;9d10f99a6712e28f8acd5641e3a7ea…</td><td>332</td><td>224</td><td>3330</td><td>9</td><td>0</td><td>130560</td><td>19968</td><td>0</td><td>81778</td><td>4096</td><td>143360</td><td>771751936</td><td>4096</td><td>512</td><td>5</td><td>1</td><td>0</td><td>0</td><td>5</td><td>1</td><td>159744</td><td>1024</td><td>188943</td><td>2</td><td>33088</td><td>1048576</td><td>4096</td><td>1048576</td><td>4096</td><td>0</td><td>16</td><td>4</td><td>4.839688</td><td>2.373525</td><td>6.566909</td><td>35584.0</td><td>2048</td><td>130560</td><td>37322.0</td><td>1840</td><td>130296</td><td>7</td><td>181</td><td>0</td><td>0</td><td>2</td><td>4.250461</td><td>3.420744</td><td>5.080177</td><td>837.0</td><td>518</td><td>1156</td><td>72</td><td>18</td><td>1</td></tr><tr><td>&quot;setup.exe&quot;</td><td>&quot;4d92f518527353c0db88a70fddcfd3…</td><td>332</td><td>224</td><td>3330</td><td>9</td><td>0</td><td>517120</td><td>621568</td><td>0</td><td>350896</td><td>4096</td><td>811008</td><td>771751936</td><td>4096</td><td>512</td><td>5</td><td>1</td><td>0</td><td>0</td><td>5</td><td>1</td><td>1150976</td><td>1024</td><td>1159817</td><td>2</td><td>32832</td><td>1048576</td><td>4096</td><td>1048576</td><td>4096</td><td>0</td><td>16</td><td>4</td><td>6.409558</td><td>4.885191</td><td>7.600957</td><td>273408.0</td><td>21504</td><td>517120</td><td>284498.0</td><td>21456</td><td>516760</td><td>14</td><td>235</td><td>21</td><td>1</td><td>11</td><td>4.426324</td><td>2.846449</td><td>5.271813</td><td>31102.272727</td><td>104</td><td>270376</td><td>72</td><td>18</td><td>1</td></tr><tr><td>&quot;DW20.EXE&quot;</td><td>&quot;a41e524f8d45f0074fd07805ff0c9b…</td><td>332</td><td>224</td><td>258</td><td>9</td><td>0</td><td>585728</td><td>369152</td><td>0</td><td>451258</td><td>4096</td><td>798720</td><td>771751936</td><td>4096</td><td>512</td><td>5</td><td>1</td><td>0</td><td>0</td><td>5</td><td>1</td><td>962560</td><td>1024</td><td>867570</td><td>2</td><td>33088</td><td>1048576</td><td>4096</td><td>1048576</td><td>4096</td><td>0</td><td>16</td><td>4</td><td>6.641731</td><td>5.642565</td><td>7.594929</td><td>207872.0</td><td>15360</td><td>585728</td><td>238502.0</td><td>15208</td><td>585488</td><td>15</td><td>360</td><td>6</td><td>1</td><td>10</td><td>4.364291</td><td>2.669314</td><td>6.40072</td><td>1457.0</td><td>90</td><td>4264</td><td>72</td><td>18</td><td>1</td></tr><tr><td>&quot;dwtrig20.exe&quot;</td><td>&quot;c87e561258f2f8650cef999bf643a7…</td><td>332</td><td>224</td><td>258</td><td>9</td><td>0</td><td>294912</td><td>247296</td><td>0</td><td>217381</td><td>4096</td><td>536576</td><td>771751936</td><td>4096</td><td>512</td><td>5</td><td>1</td><td>0</td><td>0</td><td>5</td><td>1</td><td>552960</td><td>1024</td><td>579287</td><td>2</td><td>33088</td><td>1048576</td><td>4096</td><td>1048576</td><td>4096</td><td>0</td><td>16</td><td>4</td><td>6.252684</td><td>4.182282</td><td>7.608305</td><td>128128.0</td><td>2560</td><td>294912</td><td>135350.0</td><td>2320</td><td>294816</td><td>10</td><td>194</td><td>4</td><td>1</td><td>2</td><td>4.3061</td><td>3.421598</td><td>5.190603</td><td>1074.5</td><td>849</td><td>1300</td><td>72</td><td>18</td><td>1</td></tr></tbody></table></div>"
      ],
      "text/plain": [
       "shape: (5, 57)\n",
       "┌────────────┬───────────┬─────────┬───────────┬───┬───────────┬───────────┬───────────┬───────────┐\n",
       "│ Name       ┆ md5       ┆ Machine ┆ SizeOfOpt ┆ … ┆ Resources ┆ LoadConfi ┆ VersionIn ┆ legitimat │\n",
       "│ ---        ┆ ---       ┆ ---     ┆ ionalHead ┆   ┆ MaxSize   ┆ gurationS ┆ formation ┆ e         │\n",
       "│ str        ┆ str       ┆ i64     ┆ er        ┆   ┆ ---       ┆ ize       ┆ Size      ┆ ---       │\n",
       "│            ┆           ┆         ┆ ---       ┆   ┆ i64       ┆ ---       ┆ ---       ┆ i64       │\n",
       "│            ┆           ┆         ┆ i64       ┆   ┆           ┆ i64       ┆ i64       ┆           │\n",
       "╞════════════╪═══════════╪═════════╪═══════════╪═══╪═══════════╪═══════════╪═══════════╪═══════════╡\n",
       "│ memtest.ex ┆ 631ea3556 ┆ 332     ┆ 224       ┆ … ┆ 18032     ┆ 0         ┆ 16        ┆ 1         │\n",
       "│ e          ┆ 65f28d470 ┆         ┆           ┆   ┆           ┆           ┆           ┆           │\n",
       "│            ┆ 7448e442f ┆         ┆           ┆   ┆           ┆           ┆           ┆           │\n",
       "│            ┆ bf5…      ┆         ┆           ┆   ┆           ┆           ┆           ┆           │\n",
       "│ ose.exe    ┆ 9d10f99a6 ┆ 332     ┆ 224       ┆ … ┆ 1156      ┆ 72        ┆ 18        ┆ 1         │\n",
       "│            ┆ 712e28f8a ┆         ┆           ┆   ┆           ┆           ┆           ┆           │\n",
       "│            ┆ cd5641e3a ┆         ┆           ┆   ┆           ┆           ┆           ┆           │\n",
       "│            ┆ 7ea…      ┆         ┆           ┆   ┆           ┆           ┆           ┆           │\n",
       "│ setup.exe  ┆ 4d92f5185 ┆ 332     ┆ 224       ┆ … ┆ 270376    ┆ 72        ┆ 18        ┆ 1         │\n",
       "│            ┆ 27353c0db ┆         ┆           ┆   ┆           ┆           ┆           ┆           │\n",
       "│            ┆ 88a70fddc ┆         ┆           ┆   ┆           ┆           ┆           ┆           │\n",
       "│            ┆ fd3…      ┆         ┆           ┆   ┆           ┆           ┆           ┆           │\n",
       "│ DW20.EXE   ┆ a41e524f8 ┆ 332     ┆ 224       ┆ … ┆ 4264      ┆ 72        ┆ 18        ┆ 1         │\n",
       "│            ┆ d45f0074f ┆         ┆           ┆   ┆           ┆           ┆           ┆           │\n",
       "│            ┆ d07805ff0 ┆         ┆           ┆   ┆           ┆           ┆           ┆           │\n",
       "│            ┆ c9b…      ┆         ┆           ┆   ┆           ┆           ┆           ┆           │\n",
       "│ dwtrig20.e ┆ c87e56125 ┆ 332     ┆ 224       ┆ … ┆ 1300      ┆ 72        ┆ 18        ┆ 1         │\n",
       "│ xe         ┆ 8f2f8650c ┆         ┆           ┆   ┆           ┆           ┆           ┆           │\n",
       "│            ┆ ef999bf64 ┆         ┆           ┆   ┆           ┆           ┆           ┆           │\n",
       "│            ┆ 3a7…      ┆         ┆           ┆   ┆           ┆           ┆           ┆           │\n",
       "└────────────┴───────────┴─────────┴───────────┴───┴───────────┴───────────┴───────────┴───────────┘"
      ]
     },
     "execution_count": 2,
     "metadata": {},
     "output_type": "execute_result"
    }
   ],
   "source": [
    "MalwareDataset.head()"
   ]
  },
  {
   "cell_type": "code",
   "execution_count": 3,
   "id": "9ed5d5bf-8c08-44d0-a0bc-f3684a5e6df2",
   "metadata": {},
   "outputs": [
    {
     "data": {
      "text/html": [
       "<div><style>\n",
       ".dataframe > thead > tr,\n",
       ".dataframe > tbody > tr {\n",
       "  text-align: right;\n",
       "  white-space: pre-wrap;\n",
       "}\n",
       "</style>\n",
       "<small>shape: (9, 58)</small><table border=\"1\" class=\"dataframe\"><thead><tr><th>statistic</th><th>Name</th><th>md5</th><th>Machine</th><th>SizeOfOptionalHeader</th><th>Characteristics</th><th>MajorLinkerVersion</th><th>MinorLinkerVersion</th><th>SizeOfCode</th><th>SizeOfInitializedData</th><th>SizeOfUninitializedData</th><th>AddressOfEntryPoint</th><th>BaseOfCode</th><th>BaseOfData</th><th>ImageBase</th><th>SectionAlignment</th><th>FileAlignment</th><th>MajorOperatingSystemVersion</th><th>MinorOperatingSystemVersion</th><th>MajorImageVersion</th><th>MinorImageVersion</th><th>MajorSubsystemVersion</th><th>MinorSubsystemVersion</th><th>SizeOfImage</th><th>SizeOfHeaders</th><th>CheckSum</th><th>Subsystem</th><th>DllCharacteristics</th><th>SizeOfStackReserve</th><th>SizeOfStackCommit</th><th>SizeOfHeapReserve</th><th>SizeOfHeapCommit</th><th>LoaderFlags</th><th>NumberOfRvaAndSizes</th><th>SectionsNb</th><th>SectionsMeanEntropy</th><th>SectionsMinEntropy</th><th>SectionsMaxEntropy</th><th>SectionsMeanRawsize</th><th>SectionsMinRawsize</th><th>SectionMaxRawsize</th><th>SectionsMeanVirtualsize</th><th>SectionsMinVirtualsize</th><th>SectionMaxVirtualsize</th><th>ImportsNbDLL</th><th>ImportsNb</th><th>ImportsNbOrdinal</th><th>ExportNb</th><th>ResourcesNb</th><th>ResourcesMeanEntropy</th><th>ResourcesMinEntropy</th><th>ResourcesMaxEntropy</th><th>ResourcesMeanSize</th><th>ResourcesMinSize</th><th>ResourcesMaxSize</th><th>LoadConfigurationSize</th><th>VersionInformationSize</th><th>legitimate</th></tr><tr><td>str</td><td>str</td><td>str</td><td>f64</td><td>f64</td><td>f64</td><td>f64</td><td>f64</td><td>f64</td><td>f64</td><td>f64</td><td>f64</td><td>f64</td><td>f64</td><td>f64</td><td>f64</td><td>f64</td><td>f64</td><td>f64</td><td>f64</td><td>f64</td><td>f64</td><td>f64</td><td>f64</td><td>f64</td><td>f64</td><td>f64</td><td>f64</td><td>f64</td><td>f64</td><td>f64</td><td>f64</td><td>f64</td><td>f64</td><td>f64</td><td>f64</td><td>f64</td><td>f64</td><td>f64</td><td>f64</td><td>f64</td><td>f64</td><td>f64</td><td>f64</td><td>f64</td><td>f64</td><td>f64</td><td>f64</td><td>f64</td><td>f64</td><td>f64</td><td>f64</td><td>f64</td><td>f64</td><td>f64</td><td>f64</td><td>f64</td><td>f64</td></tr></thead><tbody><tr><td>&quot;count&quot;</td><td>&quot;138047&quot;</td><td>&quot;138047&quot;</td><td>138047.0</td><td>138047.0</td><td>138047.0</td><td>138047.0</td><td>138047.0</td><td>138047.0</td><td>138047.0</td><td>138047.0</td><td>138047.0</td><td>138047.0</td><td>138047.0</td><td>138047.0</td><td>138047.0</td><td>138047.0</td><td>138047.0</td><td>138047.0</td><td>138047.0</td><td>138047.0</td><td>138047.0</td><td>138047.0</td><td>138047.0</td><td>138047.0</td><td>138047.0</td><td>138047.0</td><td>138047.0</td><td>138047.0</td><td>138047.0</td><td>138047.0</td><td>138047.0</td><td>138047.0</td><td>138047.0</td><td>138047.0</td><td>138047.0</td><td>138047.0</td><td>138047.0</td><td>138047.0</td><td>138047.0</td><td>138047.0</td><td>138047.0</td><td>138047.0</td><td>138047.0</td><td>138047.0</td><td>138047.0</td><td>138047.0</td><td>138047.0</td><td>138047.0</td><td>138047.0</td><td>138047.0</td><td>138047.0</td><td>138047.0</td><td>138047.0</td><td>138047.0</td><td>138047.0</td><td>138047.0</td><td>138047.0</td></tr><tr><td>&quot;null_count&quot;</td><td>&quot;0&quot;</td><td>&quot;0&quot;</td><td>0.0</td><td>0.0</td><td>0.0</td><td>0.0</td><td>0.0</td><td>0.0</td><td>0.0</td><td>0.0</td><td>0.0</td><td>0.0</td><td>0.0</td><td>0.0</td><td>0.0</td><td>0.0</td><td>0.0</td><td>0.0</td><td>0.0</td><td>0.0</td><td>0.0</td><td>0.0</td><td>0.0</td><td>0.0</td><td>0.0</td><td>0.0</td><td>0.0</td><td>0.0</td><td>0.0</td><td>0.0</td><td>0.0</td><td>0.0</td><td>0.0</td><td>0.0</td><td>0.0</td><td>0.0</td><td>0.0</td><td>0.0</td><td>0.0</td><td>0.0</td><td>0.0</td><td>0.0</td><td>0.0</td><td>0.0</td><td>0.0</td><td>0.0</td><td>0.0</td><td>0.0</td><td>0.0</td><td>0.0</td><td>0.0</td><td>0.0</td><td>0.0</td><td>0.0</td><td>0.0</td><td>0.0</td><td>0.0</td></tr><tr><td>&quot;mean&quot;</td><td>null</td><td>null</td><td>4259.069274</td><td>225.845632</td><td>4444.145994</td><td>8.619774</td><td>3.819286</td><td>242595.562656</td><td>450486.674763</td><td>100952.505299</td><td>171956.143444</td><td>57798.449209</td><td>221374.271683</td><td>5.3509e14</td><td>7323.764341</td><td>694.386694</td><td>5.097843</td><td>1.092983</td><td>68.751983</td><td>64.851283</td><td>4.861895</td><td>1.444602</td><td>815975.037987</td><td>1297.87652</td><td>1.7980e8</td><td>2.157403</td><td>22312.125283</td><td>930247.728151</td><td>5445.542808</td><td>1.0320e6</td><td>34298.822061</td><td>36085.059994</td><td>79087.620057</td><td>4.994509</td><td>4.637599</td><td>2.259625</td><td>6.958913</td><td>187151.280878</td><td>19564.878382</td><td>650680.50782</td><td>188423.72694</td><td>21098.36581</td><td>634980.813781</td><td>5.462937</td><td>113.225648</td><td>4.338341</td><td>23.674263</td><td>22.0507</td><td>4.000127</td><td>2.434541</td><td>5.52161</td><td>55450.93496</td><td>18180.816562</td><td>246590.253971</td><td>465674.980724</td><td>12.363115</td><td>0.29934</td></tr><tr><td>&quot;std&quot;</td><td>null</td><td>null</td><td>10880.347245</td><td>5.121399</td><td>8186.782524</td><td>4.088757</td><td>11.862675</td><td>5.7545e6</td><td>2.1016e7</td><td>1.6353e7</td><td>3.4306e6</td><td>5.5277e6</td><td>2.1880e6</td><td>9.9296e16</td><td>625768.689461</td><td>1289.921098</td><td>99.220192</td><td>77.551077</td><td>1185.886042</td><td>1139.691397</td><td>0.64772</td><td>181.180393</td><td>6.5301e6</td><td>5595.523021</td><td>5.9762e8</td><td>0.45294</td><td>15440.574817</td><td>555008.063243</td><td>18047.242105</td><td>181774.395281</td><td>7.9069e6</td><td>8.9047e6</td><td>1.4669e7</td><td>1.915329</td><td>1.099464</td><td>1.831893</td><td>1.044297</td><td>7.7352e6</td><td>354086.824998</td><td>3.0072e7</td><td>4.1802e6</td><td>354314.107772</td><td>1.2855e7</td><td>4.362811</td><td>123.134704</td><td>34.776745</td><td>252.093958</td><td>136.494244</td><td>1.112981</td><td>0.815577</td><td>1.597403</td><td>7.7992e6</td><td>6.5024e6</td><td>2.1249e7</td><td>2.6090e7</td><td>6.798878</td><td>0.457971</td></tr><tr><td>&quot;min&quot;</td><td>&quot;$RD5HSV3.exe&quot;</td><td>&quot;00008be6c1750e26e86b13023e9c44…</td><td>332.0</td><td>224.0</td><td>2.0</td><td>0.0</td><td>0.0</td><td>0.0</td><td>0.0</td><td>0.0</td><td>0.0</td><td>0.0</td><td>0.0</td><td>65536.0</td><td>16.0</td><td>16.0</td><td>0.0</td><td>0.0</td><td>0.0</td><td>0.0</td><td>1.0</td><td>0.0</td><td>0.0</td><td>448.0</td><td>0.0</td><td>1.0</td><td>0.0</td><td>0.0</td><td>0.0</td><td>0.0</td><td>0.0</td><td>0.0</td><td>7.0</td><td>1.0</td><td>0.0</td><td>0.0</td><td>0.0</td><td>64.0</td><td>0.0</td><td>64.0</td><td>0.0</td><td>0.0</td><td>0.0</td><td>0.0</td><td>0.0</td><td>0.0</td><td>0.0</td><td>0.0</td><td>0.0</td><td>0.0</td><td>0.0</td><td>0.0</td><td>0.0</td><td>0.0</td><td>0.0</td><td>0.0</td><td>0.0</td></tr><tr><td>&quot;25%&quot;</td><td>null</td><td>null</td><td>332.0</td><td>224.0</td><td>258.0</td><td>8.0</td><td>0.0</td><td>30208.0</td><td>24576.0</td><td>0.0</td><td>12721.0</td><td>4096.0</td><td>28672.0</td><td>4.194304e6</td><td>4096.0</td><td>512.0</td><td>4.0</td><td>0.0</td><td>0.0</td><td>0.0</td><td>4.0</td><td>0.0</td><td>184320.0</td><td>1024.0</td><td>106577.0</td><td>2.0</td><td>320.0</td><td>1.048576e6</td><td>4096.0</td><td>1.048576e6</td><td>4096.0</td><td>0.0</td><td>16.0</td><td>4.0</td><td>4.001091</td><td>0.020393</td><td>6.417698</td><td>18688.0</td><td>512.0</td><td>57344.0</td><td>35872.0</td><td>364.0</td><td>108504.0</td><td>3.0</td><td>67.0</td><td>0.0</td><td>0.0</td><td>5.0</td><td>3.458523</td><td>2.178748</td><td>4.828706</td><td>956.0</td><td>48.0</td><td>2216.0</td><td>0.0</td><td>13.0</td><td>0.0</td></tr><tr><td>&quot;50%&quot;</td><td>null</td><td>null</td><td>332.0</td><td>224.0</td><td>258.0</td><td>9.0</td><td>0.0</td><td>113664.0</td><td>263168.0</td><td>0.0</td><td>52883.0</td><td>4096.0</td><td>114688.0</td><td>4.194304e6</td><td>4096.0</td><td>512.0</td><td>5.0</td><td>1.0</td><td>0.0</td><td>0.0</td><td>5.0</td><td>1.0</td><td>516096.0</td><td>1024.0</td><td>518026.0</td><td>2.0</td><td>33088.0</td><td>1.048576e6</td><td>4096.0</td><td>1.048576e6</td><td>4096.0</td><td>0.0</td><td>16.0</td><td>5.0</td><td>4.892993</td><td>2.545297</td><td>6.687587</td><td>88473.6</td><td>3584.0</td><td>252928.0</td><td>101043.0</td><td>4764.0</td><td>330808.0</td><td>4.0</td><td>90.0</td><td>0.0</td><td>0.0</td><td>6.0</td><td>3.729824</td><td>2.458492</td><td>5.317552</td><td>2708.153846</td><td>48.0</td><td>9640.0</td><td>72.0</td><td>15.0</td><td>0.0</td></tr><tr><td>&quot;75%&quot;</td><td>null</td><td>null</td><td>332.0</td><td>224.0</td><td>8226.0</td><td>10.0</td><td>0.0</td><td>120320.0</td><td>385024.0</td><td>0.0</td><td>61578.0</td><td>4096.0</td><td>126976.0</td><td>1.00401152e8</td><td>4096.0</td><td>512.0</td><td>5.0</td><td>1.0</td><td>6.0</td><td>0.0</td><td>5.0</td><td>1.0</td><td>528384.0</td><td>1024.0</td><td>571631.0</td><td>2.0</td><td>33088.0</td><td>1.048576e6</td><td>4096.0</td><td>1.048576e6</td><td>4096.0</td><td>0.0</td><td>16.0</td><td>5.0</td><td>5.638913</td><td>4.087324</td><td>7.963092</td><td>101068.8</td><td>9728.0</td><td>330752.0</td><td>102635.8</td><td>9400.0</td><td>339716.0</td><td>8.0</td><td>128.0</td><td>1.0</td><td>0.0</td><td>13.0</td><td>4.23307</td><td>2.696833</td><td>6.502239</td><td>6558.428571</td><td>132.0</td><td>23780.0</td><td>72.0</td><td>16.0</td><td>1.0</td></tr><tr><td>&quot;max&quot;</td><td>&quot;zoneoc.dll&quot;</td><td>&quot;ffff110cd8484dd75795eb2c94f2ca…</td><td>34404.0</td><td>352.0</td><td>49551.0</td><td>255.0</td><td>255.0</td><td>1.8186e9</td><td>4.2950e9</td><td>4.2949e9</td><td>1.0745e9</td><td>2.0287e9</td><td>2.68435456e8</td><td>1.8447e19</td><td>1.34217728e8</td><td>65536.0</td><td>36868.0</td><td>17757.0</td><td>28619.0</td><td>20512.0</td><td>10.0</td><td>47600.0</td><td>1.4100e9</td><td>786432.0</td><td>4.2950e9</td><td>16.0</td><td>49504.0</td><td>3.3554432e7</td><td>2.097152e6</td><td>1.3631488e7</td><td>2.0773e9</td><td>2.3283e9</td><td>3.4023e9</td><td>40.0</td><td>7.995558</td><td>7.995558</td><td>7.999994</td><td>1.4316e9</td><td>2.9000704e7</td><td>4.2949e9</td><td>1.4317e9</td><td>2.9000672e7</td><td>4.2949e9</td><td>280.0</td><td>4432.0</td><td>3450.0</td><td>16596.0</td><td>7694.0</td><td>7.999723</td><td>7.999723</td><td>8.0</td><td>2.4159e9</td><td>2.4159e9</td><td>4.2949e9</td><td>4.2950e9</td><td>26.0</td><td>1.0</td></tr></tbody></table></div>"
      ],
      "text/plain": [
       "shape: (9, 58)\n",
       "┌───────────┬───────────┬───────────┬───────────┬───┬───────────┬───────────┬───────────┬──────────┐\n",
       "│ statistic ┆ Name      ┆ md5       ┆ Machine   ┆ … ┆ Resources ┆ LoadConfi ┆ VersionIn ┆ legitima │\n",
       "│ ---       ┆ ---       ┆ ---       ┆ ---       ┆   ┆ MaxSize   ┆ gurationS ┆ formation ┆ te       │\n",
       "│ str       ┆ str       ┆ str       ┆ f64       ┆   ┆ ---       ┆ ize       ┆ Size      ┆ ---      │\n",
       "│           ┆           ┆           ┆           ┆   ┆ f64       ┆ ---       ┆ ---       ┆ f64      │\n",
       "│           ┆           ┆           ┆           ┆   ┆           ┆ f64       ┆ f64       ┆          │\n",
       "╞═══════════╪═══════════╪═══════════╪═══════════╪═══╪═══════════╪═══════════╪═══════════╪══════════╡\n",
       "│ count     ┆ 138047    ┆ 138047    ┆ 138047.0  ┆ … ┆ 138047.0  ┆ 138047.0  ┆ 138047.0  ┆ 138047.0 │\n",
       "│ null_coun ┆ 0         ┆ 0         ┆ 0.0       ┆ … ┆ 0.0       ┆ 0.0       ┆ 0.0       ┆ 0.0      │\n",
       "│ t         ┆           ┆           ┆           ┆   ┆           ┆           ┆           ┆          │\n",
       "│ mean      ┆ null      ┆ null      ┆ 4259.0692 ┆ … ┆ 246590.25 ┆ 465674.98 ┆ 12.363115 ┆ 0.29934  │\n",
       "│           ┆           ┆           ┆ 74        ┆   ┆ 3971      ┆ 0724      ┆           ┆          │\n",
       "│ std       ┆ null      ┆ null      ┆ 10880.347 ┆ … ┆ 2.1249e7  ┆ 2.6090e7  ┆ 6.798878  ┆ 0.457971 │\n",
       "│           ┆           ┆           ┆ 245       ┆   ┆           ┆           ┆           ┆          │\n",
       "│ min       ┆ $RD5HSV3. ┆ 00008be6c ┆ 332.0     ┆ … ┆ 0.0       ┆ 0.0       ┆ 0.0       ┆ 0.0      │\n",
       "│           ┆ exe       ┆ 1750e26e8 ┆           ┆   ┆           ┆           ┆           ┆          │\n",
       "│           ┆           ┆ 6b13023e9 ┆           ┆   ┆           ┆           ┆           ┆          │\n",
       "│           ┆           ┆ c44…      ┆           ┆   ┆           ┆           ┆           ┆          │\n",
       "│ 25%       ┆ null      ┆ null      ┆ 332.0     ┆ … ┆ 2216.0    ┆ 0.0       ┆ 13.0      ┆ 0.0      │\n",
       "│ 50%       ┆ null      ┆ null      ┆ 332.0     ┆ … ┆ 9640.0    ┆ 72.0      ┆ 15.0      ┆ 0.0      │\n",
       "│ 75%       ┆ null      ┆ null      ┆ 332.0     ┆ … ┆ 23780.0   ┆ 72.0      ┆ 16.0      ┆ 1.0      │\n",
       "│ max       ┆ zoneoc.dl ┆ ffff110cd ┆ 34404.0   ┆ … ┆ 4.2949e9  ┆ 4.2950e9  ┆ 26.0      ┆ 1.0      │\n",
       "│           ┆ l         ┆ 8484dd757 ┆           ┆   ┆           ┆           ┆           ┆          │\n",
       "│           ┆           ┆ 95eb2c94f ┆           ┆   ┆           ┆           ┆           ┆          │\n",
       "│           ┆           ┆ 2ca…      ┆           ┆   ┆           ┆           ┆           ┆          │\n",
       "└───────────┴───────────┴───────────┴───────────┴───┴───────────┴───────────┴───────────┴──────────┘"
      ]
     },
     "execution_count": 3,
     "metadata": {},
     "output_type": "execute_result"
    }
   ],
   "source": [
    "MalwareDataset.describe()"
   ]
  },
  {
   "cell_type": "code",
   "execution_count": 4,
   "id": "43bb12b3-3b79-45f0-907d-851d3d7a6c5a",
   "metadata": {},
   "outputs": [
    {
     "data": {
      "text/html": [
       "<div><style>\n",
       ".dataframe > thead > tr,\n",
       ".dataframe > tbody > tr {\n",
       "  text-align: right;\n",
       "  white-space: pre-wrap;\n",
       "}\n",
       "</style>\n",
       "<small>shape: (1, 57)</small><table border=\"1\" class=\"dataframe\"><thead><tr><th>Name</th><th>md5</th><th>Machine</th><th>SizeOfOptionalHeader</th><th>Characteristics</th><th>MajorLinkerVersion</th><th>MinorLinkerVersion</th><th>SizeOfCode</th><th>SizeOfInitializedData</th><th>SizeOfUninitializedData</th><th>AddressOfEntryPoint</th><th>BaseOfCode</th><th>BaseOfData</th><th>ImageBase</th><th>SectionAlignment</th><th>FileAlignment</th><th>MajorOperatingSystemVersion</th><th>MinorOperatingSystemVersion</th><th>MajorImageVersion</th><th>MinorImageVersion</th><th>MajorSubsystemVersion</th><th>MinorSubsystemVersion</th><th>SizeOfImage</th><th>SizeOfHeaders</th><th>CheckSum</th><th>Subsystem</th><th>DllCharacteristics</th><th>SizeOfStackReserve</th><th>SizeOfStackCommit</th><th>SizeOfHeapReserve</th><th>SizeOfHeapCommit</th><th>LoaderFlags</th><th>NumberOfRvaAndSizes</th><th>SectionsNb</th><th>SectionsMeanEntropy</th><th>SectionsMinEntropy</th><th>SectionsMaxEntropy</th><th>SectionsMeanRawsize</th><th>SectionsMinRawsize</th><th>SectionMaxRawsize</th><th>SectionsMeanVirtualsize</th><th>SectionsMinVirtualsize</th><th>SectionMaxVirtualsize</th><th>ImportsNbDLL</th><th>ImportsNb</th><th>ImportsNbOrdinal</th><th>ExportNb</th><th>ResourcesNb</th><th>ResourcesMeanEntropy</th><th>ResourcesMinEntropy</th><th>ResourcesMaxEntropy</th><th>ResourcesMeanSize</th><th>ResourcesMinSize</th><th>ResourcesMaxSize</th><th>LoadConfigurationSize</th><th>VersionInformationSize</th><th>legitimate</th></tr><tr><td>u32</td><td>u32</td><td>u32</td><td>u32</td><td>u32</td><td>u32</td><td>u32</td><td>u32</td><td>u32</td><td>u32</td><td>u32</td><td>u32</td><td>u32</td><td>u32</td><td>u32</td><td>u32</td><td>u32</td><td>u32</td><td>u32</td><td>u32</td><td>u32</td><td>u32</td><td>u32</td><td>u32</td><td>u32</td><td>u32</td><td>u32</td><td>u32</td><td>u32</td><td>u32</td><td>u32</td><td>u32</td><td>u32</td><td>u32</td><td>u32</td><td>u32</td><td>u32</td><td>u32</td><td>u32</td><td>u32</td><td>u32</td><td>u32</td><td>u32</td><td>u32</td><td>u32</td><td>u32</td><td>u32</td><td>u32</td><td>u32</td><td>u32</td><td>u32</td><td>u32</td><td>u32</td><td>u32</td><td>u32</td><td>u32</td><td>u32</td></tr></thead><tbody><tr><td>0</td><td>0</td><td>0</td><td>0</td><td>0</td><td>0</td><td>0</td><td>0</td><td>0</td><td>0</td><td>0</td><td>0</td><td>0</td><td>0</td><td>0</td><td>0</td><td>0</td><td>0</td><td>0</td><td>0</td><td>0</td><td>0</td><td>0</td><td>0</td><td>0</td><td>0</td><td>0</td><td>0</td><td>0</td><td>0</td><td>0</td><td>0</td><td>0</td><td>0</td><td>0</td><td>0</td><td>0</td><td>0</td><td>0</td><td>0</td><td>0</td><td>0</td><td>0</td><td>0</td><td>0</td><td>0</td><td>0</td><td>0</td><td>0</td><td>0</td><td>0</td><td>0</td><td>0</td><td>0</td><td>0</td><td>0</td><td>0</td></tr></tbody></table></div>"
      ],
      "text/plain": [
       "shape: (1, 57)\n",
       "┌──────┬─────┬─────────┬──────────────┬───┬──────────────┬──────────────┬─────────────┬────────────┐\n",
       "│ Name ┆ md5 ┆ Machine ┆ SizeOfOption ┆ … ┆ ResourcesMax ┆ LoadConfigur ┆ VersionInfo ┆ legitimate │\n",
       "│ ---  ┆ --- ┆ ---     ┆ alHeader     ┆   ┆ Size         ┆ ationSize    ┆ rmationSize ┆ ---        │\n",
       "│ u32  ┆ u32 ┆ u32     ┆ ---          ┆   ┆ ---          ┆ ---          ┆ ---         ┆ u32        │\n",
       "│      ┆     ┆         ┆ u32          ┆   ┆ u32          ┆ u32          ┆ u32         ┆            │\n",
       "╞══════╪═════╪═════════╪══════════════╪═══╪══════════════╪══════════════╪═════════════╪════════════╡\n",
       "│ 0    ┆ 0   ┆ 0       ┆ 0            ┆ … ┆ 0            ┆ 0            ┆ 0           ┆ 0          │\n",
       "└──────┴─────┴─────────┴──────────────┴───┴──────────────┴──────────────┴─────────────┴────────────┘"
      ]
     },
     "execution_count": 4,
     "metadata": {},
     "output_type": "execute_result"
    }
   ],
   "source": [
    "# no null value\n",
    "MalwareDataset.null_count()"
   ]
  },
  {
   "cell_type": "code",
   "execution_count": 5,
   "id": "7d6c249c-5187-4532-a893-bd1d37ffbee2",
   "metadata": {},
   "outputs": [],
   "source": [
    "import numpy as np\n",
    "import sklearn\n",
    "from sklearn.feature_selection import SelectFromModel\n",
    "from sklearn.ensemble import ExtraTreesClassifier\n",
    "from sklearn.model_selection import train_test_split\n",
    "from sklearn import model_selection"
   ]
  },
  {
   "cell_type": "code",
   "execution_count": 6,
   "id": "252b3629-36b3-4b39-9184-454194785c91",
   "metadata": {},
   "outputs": [],
   "source": [
    "MalwareDataset_drop = MalwareDataset.drop([\"Name\", \"md5\", \"legitimate\"]) # legitimate is target\n",
    "X = MalwareDataset_drop"
   ]
  },
  {
   "cell_type": "code",
   "execution_count": 7,
   "id": "2344dad5-6e7e-447a-ac19-5295890611b7",
   "metadata": {},
   "outputs": [
    {
     "data": {
      "text/html": [
       "<div><style>\n",
       ".dataframe > thead > tr,\n",
       ".dataframe > tbody > tr {\n",
       "  text-align: right;\n",
       "  white-space: pre-wrap;\n",
       "}\n",
       "</style>\n",
       "<small>shape: (5, 54)</small><table border=\"1\" class=\"dataframe\"><thead><tr><th>Machine</th><th>SizeOfOptionalHeader</th><th>Characteristics</th><th>MajorLinkerVersion</th><th>MinorLinkerVersion</th><th>SizeOfCode</th><th>SizeOfInitializedData</th><th>SizeOfUninitializedData</th><th>AddressOfEntryPoint</th><th>BaseOfCode</th><th>BaseOfData</th><th>ImageBase</th><th>SectionAlignment</th><th>FileAlignment</th><th>MajorOperatingSystemVersion</th><th>MinorOperatingSystemVersion</th><th>MajorImageVersion</th><th>MinorImageVersion</th><th>MajorSubsystemVersion</th><th>MinorSubsystemVersion</th><th>SizeOfImage</th><th>SizeOfHeaders</th><th>CheckSum</th><th>Subsystem</th><th>DllCharacteristics</th><th>SizeOfStackReserve</th><th>SizeOfStackCommit</th><th>SizeOfHeapReserve</th><th>SizeOfHeapCommit</th><th>LoaderFlags</th><th>NumberOfRvaAndSizes</th><th>SectionsNb</th><th>SectionsMeanEntropy</th><th>SectionsMinEntropy</th><th>SectionsMaxEntropy</th><th>SectionsMeanRawsize</th><th>SectionsMinRawsize</th><th>SectionMaxRawsize</th><th>SectionsMeanVirtualsize</th><th>SectionsMinVirtualsize</th><th>SectionMaxVirtualsize</th><th>ImportsNbDLL</th><th>ImportsNb</th><th>ImportsNbOrdinal</th><th>ExportNb</th><th>ResourcesNb</th><th>ResourcesMeanEntropy</th><th>ResourcesMinEntropy</th><th>ResourcesMaxEntropy</th><th>ResourcesMeanSize</th><th>ResourcesMinSize</th><th>ResourcesMaxSize</th><th>LoadConfigurationSize</th><th>VersionInformationSize</th></tr><tr><td>i64</td><td>i64</td><td>i64</td><td>i64</td><td>i64</td><td>i64</td><td>i64</td><td>i64</td><td>i64</td><td>i64</td><td>i64</td><td>u64</td><td>i64</td><td>i64</td><td>i64</td><td>i64</td><td>i64</td><td>i64</td><td>i64</td><td>i64</td><td>i64</td><td>i64</td><td>i64</td><td>i64</td><td>i64</td><td>i64</td><td>i64</td><td>i64</td><td>i64</td><td>i64</td><td>i64</td><td>i64</td><td>f64</td><td>f64</td><td>f64</td><td>f64</td><td>i64</td><td>i64</td><td>f64</td><td>i64</td><td>i64</td><td>i64</td><td>i64</td><td>i64</td><td>i64</td><td>i64</td><td>f64</td><td>f64</td><td>f64</td><td>f64</td><td>i64</td><td>i64</td><td>i64</td><td>i64</td></tr></thead><tbody><tr><td>332</td><td>224</td><td>258</td><td>9</td><td>0</td><td>361984</td><td>115712</td><td>0</td><td>6135</td><td>4096</td><td>372736</td><td>4194304</td><td>4096</td><td>512</td><td>0</td><td>0</td><td>0</td><td>0</td><td>1</td><td>0</td><td>1036288</td><td>1024</td><td>485887</td><td>16</td><td>1024</td><td>1048576</td><td>4096</td><td>1048576</td><td>4096</td><td>0</td><td>16</td><td>8</td><td>5.766807</td><td>3.60743</td><td>7.221051</td><td>59712.0</td><td>1024</td><td>325120</td><td>126875.875</td><td>896</td><td>551848</td><td>0</td><td>0</td><td>0</td><td>0</td><td>4</td><td>3.262823</td><td>2.568844</td><td>3.537939</td><td>8797.0</td><td>216</td><td>18032</td><td>0</td><td>16</td></tr><tr><td>332</td><td>224</td><td>3330</td><td>9</td><td>0</td><td>130560</td><td>19968</td><td>0</td><td>81778</td><td>4096</td><td>143360</td><td>771751936</td><td>4096</td><td>512</td><td>5</td><td>1</td><td>0</td><td>0</td><td>5</td><td>1</td><td>159744</td><td>1024</td><td>188943</td><td>2</td><td>33088</td><td>1048576</td><td>4096</td><td>1048576</td><td>4096</td><td>0</td><td>16</td><td>4</td><td>4.839688</td><td>2.373525</td><td>6.566909</td><td>35584.0</td><td>2048</td><td>130560</td><td>37322.0</td><td>1840</td><td>130296</td><td>7</td><td>181</td><td>0</td><td>0</td><td>2</td><td>4.250461</td><td>3.420744</td><td>5.080177</td><td>837.0</td><td>518</td><td>1156</td><td>72</td><td>18</td></tr><tr><td>332</td><td>224</td><td>3330</td><td>9</td><td>0</td><td>517120</td><td>621568</td><td>0</td><td>350896</td><td>4096</td><td>811008</td><td>771751936</td><td>4096</td><td>512</td><td>5</td><td>1</td><td>0</td><td>0</td><td>5</td><td>1</td><td>1150976</td><td>1024</td><td>1159817</td><td>2</td><td>32832</td><td>1048576</td><td>4096</td><td>1048576</td><td>4096</td><td>0</td><td>16</td><td>4</td><td>6.409558</td><td>4.885191</td><td>7.600957</td><td>273408.0</td><td>21504</td><td>517120</td><td>284498.0</td><td>21456</td><td>516760</td><td>14</td><td>235</td><td>21</td><td>1</td><td>11</td><td>4.426324</td><td>2.846449</td><td>5.271813</td><td>31102.272727</td><td>104</td><td>270376</td><td>72</td><td>18</td></tr><tr><td>332</td><td>224</td><td>258</td><td>9</td><td>0</td><td>585728</td><td>369152</td><td>0</td><td>451258</td><td>4096</td><td>798720</td><td>771751936</td><td>4096</td><td>512</td><td>5</td><td>1</td><td>0</td><td>0</td><td>5</td><td>1</td><td>962560</td><td>1024</td><td>867570</td><td>2</td><td>33088</td><td>1048576</td><td>4096</td><td>1048576</td><td>4096</td><td>0</td><td>16</td><td>4</td><td>6.641731</td><td>5.642565</td><td>7.594929</td><td>207872.0</td><td>15360</td><td>585728</td><td>238502.0</td><td>15208</td><td>585488</td><td>15</td><td>360</td><td>6</td><td>1</td><td>10</td><td>4.364291</td><td>2.669314</td><td>6.40072</td><td>1457.0</td><td>90</td><td>4264</td><td>72</td><td>18</td></tr><tr><td>332</td><td>224</td><td>258</td><td>9</td><td>0</td><td>294912</td><td>247296</td><td>0</td><td>217381</td><td>4096</td><td>536576</td><td>771751936</td><td>4096</td><td>512</td><td>5</td><td>1</td><td>0</td><td>0</td><td>5</td><td>1</td><td>552960</td><td>1024</td><td>579287</td><td>2</td><td>33088</td><td>1048576</td><td>4096</td><td>1048576</td><td>4096</td><td>0</td><td>16</td><td>4</td><td>6.252684</td><td>4.182282</td><td>7.608305</td><td>128128.0</td><td>2560</td><td>294912</td><td>135350.0</td><td>2320</td><td>294816</td><td>10</td><td>194</td><td>4</td><td>1</td><td>2</td><td>4.3061</td><td>3.421598</td><td>5.190603</td><td>1074.5</td><td>849</td><td>1300</td><td>72</td><td>18</td></tr></tbody></table></div>"
      ],
      "text/plain": [
       "shape: (5, 54)\n",
       "┌─────────┬────────────┬───────────┬───────────┬───┬───────────┬───────────┬───────────┬───────────┐\n",
       "│ Machine ┆ SizeOfOpti ┆ Character ┆ MajorLink ┆ … ┆ Resources ┆ Resources ┆ LoadConfi ┆ VersionIn │\n",
       "│ ---     ┆ onalHeader ┆ istics    ┆ erVersion ┆   ┆ MinSize   ┆ MaxSize   ┆ gurationS ┆ formation │\n",
       "│ i64     ┆ ---        ┆ ---       ┆ ---       ┆   ┆ ---       ┆ ---       ┆ ize       ┆ Size      │\n",
       "│         ┆ i64        ┆ i64       ┆ i64       ┆   ┆ i64       ┆ i64       ┆ ---       ┆ ---       │\n",
       "│         ┆            ┆           ┆           ┆   ┆           ┆           ┆ i64       ┆ i64       │\n",
       "╞═════════╪════════════╪═══════════╪═══════════╪═══╪═══════════╪═══════════╪═══════════╪═══════════╡\n",
       "│ 332     ┆ 224        ┆ 258       ┆ 9         ┆ … ┆ 216       ┆ 18032     ┆ 0         ┆ 16        │\n",
       "│ 332     ┆ 224        ┆ 3330      ┆ 9         ┆ … ┆ 518       ┆ 1156      ┆ 72        ┆ 18        │\n",
       "│ 332     ┆ 224        ┆ 3330      ┆ 9         ┆ … ┆ 104       ┆ 270376    ┆ 72        ┆ 18        │\n",
       "│ 332     ┆ 224        ┆ 258       ┆ 9         ┆ … ┆ 90        ┆ 4264      ┆ 72        ┆ 18        │\n",
       "│ 332     ┆ 224        ┆ 258       ┆ 9         ┆ … ┆ 849       ┆ 1300      ┆ 72        ┆ 18        │\n",
       "└─────────┴────────────┴───────────┴───────────┴───┴───────────┴───────────┴───────────┴───────────┘"
      ]
     },
     "execution_count": 7,
     "metadata": {},
     "output_type": "execute_result"
    }
   ],
   "source": [
    "X.head()"
   ]
  },
  {
   "cell_type": "code",
   "execution_count": 8,
   "id": "7c623e6e-1530-4db5-8a04-1a5cf35a2a1b",
   "metadata": {},
   "outputs": [],
   "source": [
    "y = MalwareDataset[\"legitimate\"]"
   ]
  },
  {
   "cell_type": "code",
   "execution_count": 9,
   "id": "7b96cb32-524c-4bdf-b198-3ab007412910",
   "metadata": {},
   "outputs": [
    {
     "data": {
      "text/html": [
       "<div><style>\n",
       ".dataframe > thead > tr,\n",
       ".dataframe > tbody > tr {\n",
       "  text-align: right;\n",
       "  white-space: pre-wrap;\n",
       "}\n",
       "</style>\n",
       "<small>shape: (10,)</small><table border=\"1\" class=\"dataframe\"><thead><tr><th>legitimate</th></tr><tr><td>i64</td></tr></thead><tbody><tr><td>1</td></tr><tr><td>1</td></tr><tr><td>1</td></tr><tr><td>1</td></tr><tr><td>1</td></tr><tr><td>1</td></tr><tr><td>1</td></tr><tr><td>1</td></tr><tr><td>1</td></tr><tr><td>1</td></tr></tbody></table></div>"
      ],
      "text/plain": [
       "shape: (10,)\n",
       "Series: 'legitimate' [i64]\n",
       "[\n",
       "\t1\n",
       "\t1\n",
       "\t1\n",
       "\t1\n",
       "\t1\n",
       "\t1\n",
       "\t1\n",
       "\t1\n",
       "\t1\n",
       "\t1\n",
       "]"
      ]
     },
     "execution_count": 9,
     "metadata": {},
     "output_type": "execute_result"
    }
   ],
   "source": [
    "y.head()"
   ]
  },
  {
   "cell_type": "markdown",
   "id": "b49ce2d3-9b6f-4be6-81e1-ec0a540c82d3",
   "metadata": {},
   "source": [
    "## Selecting features"
   ]
  },
  {
   "cell_type": "code",
   "execution_count": 10,
   "id": "4cb29df8-d227-4146-a68b-6250b4366bf2",
   "metadata": {},
   "outputs": [],
   "source": [
    "# ExtraTreesClassifier\n",
    "FeatSelect = ExtraTreesClassifier().fit(X, y)\n",
    "Model = SelectFromModel(FeatSelect, prefit=True)\n",
    "feature_idx = Model.get_support()\n",
    "feature_name = X[feature_idx].columns"
   ]
  },
  {
   "cell_type": "code",
   "execution_count": 11,
   "id": "fbd4fc53-c37b-47d1-9da3-db48f8bec7fb",
   "metadata": {},
   "outputs": [
    {
     "name": "stderr",
     "output_type": "stream",
     "text": [
      "/home/rytst/projects/ml_for_security/venv/lib/python3.10/site-packages/sklearn/base.py:486: UserWarning: X has feature names, but SelectFromModel was fitted without feature names\n",
      "  warnings.warn(\n"
     ]
    }
   ],
   "source": [
    "X = Model.transform(X)"
   ]
  },
  {
   "cell_type": "code",
   "execution_count": 12,
   "id": "7df10311-ae27-4340-9665-bbf7b6b77e05",
   "metadata": {},
   "outputs": [
    {
     "data": {
      "text/plain": [
       "array([ True,  True,  True, False, False, False, False, False, False,\n",
       "       False, False,  True, False, False,  True, False, False, False,\n",
       "        True, False, False, False, False,  True,  True,  True, False,\n",
       "       False, False, False, False, False,  True,  True,  True, False,\n",
       "       False, False, False, False, False, False, False, False, False,\n",
       "       False, False,  True,  True, False, False, False, False,  True])"
      ]
     },
     "execution_count": 12,
     "metadata": {},
     "output_type": "execute_result"
    }
   ],
   "source": [
    "feature_idx"
   ]
  },
  {
   "cell_type": "code",
   "execution_count": 13,
   "id": "6cc079ec-c5d8-418e-8b19-622aec6bc168",
   "metadata": {},
   "outputs": [
    {
     "data": {
      "text/plain": [
       "['Machine',\n",
       " 'SizeOfOptionalHeader',\n",
       " 'Characteristics',\n",
       " 'ImageBase',\n",
       " 'MajorOperatingSystemVersion',\n",
       " 'MajorSubsystemVersion',\n",
       " 'Subsystem',\n",
       " 'DllCharacteristics',\n",
       " 'SizeOfStackReserve',\n",
       " 'SectionsMeanEntropy',\n",
       " 'SectionsMinEntropy',\n",
       " 'SectionsMaxEntropy',\n",
       " 'ResourcesMinEntropy',\n",
       " 'ResourcesMaxEntropy',\n",
       " 'VersionInformationSize']"
      ]
     },
     "execution_count": 13,
     "metadata": {},
     "output_type": "execute_result"
    }
   ],
   "source": [
    "feature_name"
   ]
  },
  {
   "cell_type": "code",
   "execution_count": 14,
   "id": "076dbde3-6db1-42fc-809f-86a7264be934",
   "metadata": {},
   "outputs": [],
   "source": [
    "X = pl.DataFrame(X)\n",
    "X.columns = feature_name"
   ]
  },
  {
   "cell_type": "code",
   "execution_count": 15,
   "id": "9f09d41f-5262-49c9-a0e7-ce634773ebf7",
   "metadata": {},
   "outputs": [
    {
     "data": {
      "text/html": [
       "<div><style>\n",
       ".dataframe > thead > tr,\n",
       ".dataframe > tbody > tr {\n",
       "  text-align: right;\n",
       "  white-space: pre-wrap;\n",
       "}\n",
       "</style>\n",
       "<small>shape: (5, 15)</small><table border=\"1\" class=\"dataframe\"><thead><tr><th>Machine</th><th>SizeOfOptionalHeader</th><th>Characteristics</th><th>ImageBase</th><th>MajorOperatingSystemVersion</th><th>MajorSubsystemVersion</th><th>Subsystem</th><th>DllCharacteristics</th><th>SizeOfStackReserve</th><th>SectionsMeanEntropy</th><th>SectionsMinEntropy</th><th>SectionsMaxEntropy</th><th>ResourcesMinEntropy</th><th>ResourcesMaxEntropy</th><th>VersionInformationSize</th></tr><tr><td>f64</td><td>f64</td><td>f64</td><td>f64</td><td>f64</td><td>f64</td><td>f64</td><td>f64</td><td>f64</td><td>f64</td><td>f64</td><td>f64</td><td>f64</td><td>f64</td><td>f64</td></tr></thead><tbody><tr><td>332.0</td><td>224.0</td><td>258.0</td><td>4.194304e6</td><td>0.0</td><td>1.0</td><td>16.0</td><td>1024.0</td><td>1.048576e6</td><td>5.766807</td><td>3.60743</td><td>7.221051</td><td>2.568844</td><td>3.537939</td><td>16.0</td></tr><tr><td>332.0</td><td>224.0</td><td>3330.0</td><td>7.71751936e8</td><td>5.0</td><td>5.0</td><td>2.0</td><td>33088.0</td><td>1.048576e6</td><td>4.839688</td><td>2.373525</td><td>6.566909</td><td>3.420744</td><td>5.080177</td><td>18.0</td></tr><tr><td>332.0</td><td>224.0</td><td>3330.0</td><td>7.71751936e8</td><td>5.0</td><td>5.0</td><td>2.0</td><td>32832.0</td><td>1.048576e6</td><td>6.409558</td><td>4.885191</td><td>7.600957</td><td>2.846449</td><td>5.271813</td><td>18.0</td></tr><tr><td>332.0</td><td>224.0</td><td>258.0</td><td>7.71751936e8</td><td>5.0</td><td>5.0</td><td>2.0</td><td>33088.0</td><td>1.048576e6</td><td>6.641731</td><td>5.642565</td><td>7.594929</td><td>2.669314</td><td>6.40072</td><td>18.0</td></tr><tr><td>332.0</td><td>224.0</td><td>258.0</td><td>7.71751936e8</td><td>5.0</td><td>5.0</td><td>2.0</td><td>33088.0</td><td>1.048576e6</td><td>6.252684</td><td>4.182282</td><td>7.608305</td><td>3.421598</td><td>5.190603</td><td>18.0</td></tr></tbody></table></div>"
      ],
      "text/plain": [
       "shape: (5, 15)\n",
       "┌─────────┬────────────┬───────────┬───────────┬───┬───────────┬───────────┬───────────┬───────────┐\n",
       "│ Machine ┆ SizeOfOpti ┆ Character ┆ ImageBase ┆ … ┆ SectionsM ┆ Resources ┆ Resources ┆ VersionIn │\n",
       "│ ---     ┆ onalHeader ┆ istics    ┆ ---       ┆   ┆ axEntropy ┆ MinEntrop ┆ MaxEntrop ┆ formation │\n",
       "│ f64     ┆ ---        ┆ ---       ┆ f64       ┆   ┆ ---       ┆ y         ┆ y         ┆ Size      │\n",
       "│         ┆ f64        ┆ f64       ┆           ┆   ┆ f64       ┆ ---       ┆ ---       ┆ ---       │\n",
       "│         ┆            ┆           ┆           ┆   ┆           ┆ f64       ┆ f64       ┆ f64       │\n",
       "╞═════════╪════════════╪═══════════╪═══════════╪═══╪═══════════╪═══════════╪═══════════╪═══════════╡\n",
       "│ 332.0   ┆ 224.0      ┆ 258.0     ┆ 4.194304e ┆ … ┆ 7.221051  ┆ 2.568844  ┆ 3.537939  ┆ 16.0      │\n",
       "│         ┆            ┆           ┆ 6         ┆   ┆           ┆           ┆           ┆           │\n",
       "│ 332.0   ┆ 224.0      ┆ 3330.0    ┆ 7.7175193 ┆ … ┆ 6.566909  ┆ 3.420744  ┆ 5.080177  ┆ 18.0      │\n",
       "│         ┆            ┆           ┆ 6e8       ┆   ┆           ┆           ┆           ┆           │\n",
       "│ 332.0   ┆ 224.0      ┆ 3330.0    ┆ 7.7175193 ┆ … ┆ 7.600957  ┆ 2.846449  ┆ 5.271813  ┆ 18.0      │\n",
       "│         ┆            ┆           ┆ 6e8       ┆   ┆           ┆           ┆           ┆           │\n",
       "│ 332.0   ┆ 224.0      ┆ 258.0     ┆ 7.7175193 ┆ … ┆ 7.594929  ┆ 2.669314  ┆ 6.40072   ┆ 18.0      │\n",
       "│         ┆            ┆           ┆ 6e8       ┆   ┆           ┆           ┆           ┆           │\n",
       "│ 332.0   ┆ 224.0      ┆ 258.0     ┆ 7.7175193 ┆ … ┆ 7.608305  ┆ 3.421598  ┆ 5.190603  ┆ 18.0      │\n",
       "│         ┆            ┆           ┆ 6e8       ┆   ┆           ┆           ┆           ┆           │\n",
       "└─────────┴────────────┴───────────┴───────────┴───┴───────────┴───────────┴───────────┴───────────┘"
      ]
     },
     "execution_count": 15,
     "metadata": {},
     "output_type": "execute_result"
    }
   ],
   "source": [
    "X.head()"
   ]
  },
  {
   "cell_type": "code",
   "execution_count": 16,
   "id": "ded034a0-d47f-48a1-afa8-e45771de6560",
   "metadata": {},
   "outputs": [
    {
     "name": "stdout",
     "output_type": "stream",
     "text": [
      "Feature: BaseOfCode\n",
      "Importance: 0.02495\n",
      "\n",
      "Feature: AddressOfEntryPoint\n",
      "Importance: 0.02525\n",
      "\n",
      "Feature: BaseOfData\n",
      "Importance: 0.02577\n",
      "\n",
      "Feature: SizeOfOptionalHeader\n",
      "Importance: 0.03338\n",
      "\n",
      "Feature: MinorLinkerVersion\n",
      "Importance: 0.03476\n",
      "\n",
      "Feature: SectionAlignment\n",
      "Importance: 0.04397\n",
      "\n",
      "Feature: SizeOfCode\n",
      "Importance: 0.05382\n",
      "\n",
      "Feature: FileAlignment\n",
      "Importance: 0.06218\n",
      "\n",
      "Feature: MajorLinkerVersion\n",
      "Importance: 0.06435\n",
      "\n",
      "Feature: SizeOfInitializedData\n",
      "Importance: 0.07125\n",
      "\n",
      "Feature: ImageBase\n",
      "Importance: 0.07793\n",
      "\n",
      "Feature: MajorOperatingSystemVersion\n",
      "Importance: 0.08164\n",
      "\n",
      "Feature: Characteristics\n",
      "Importance: 0.11097\n",
      "\n",
      "Feature: Machine\n",
      "Importance: 0.11878\n",
      "\n"
     ]
    },
    {
     "ename": "IndexError",
     "evalue": "index 14 is out of bounds for axis 0 with size 14",
     "output_type": "error",
     "traceback": [
      "\u001b[0;31m---------------------------------------------------------------------------\u001b[0m",
      "\u001b[0;31mIndexError\u001b[0m                                Traceback (most recent call last)",
      "Cell \u001b[0;32mIn[16], line 11\u001b[0m\n\u001b[1;32m      5\u001b[0m Index \u001b[38;5;241m=\u001b[39m np\u001b[38;5;241m.\u001b[39margsort(FI)[:\u001b[38;5;241m-\u001b[39m\u001b[38;5;241m1\u001b[39m][:Features]\n\u001b[1;32m      7\u001b[0m \u001b[38;5;28;01mfor\u001b[39;00m feat \u001b[38;5;129;01min\u001b[39;00m \u001b[38;5;28mrange\u001b[39m(Features):\n\u001b[1;32m      8\u001b[0m     \u001b[38;5;28mprint\u001b[39m(\n\u001b[1;32m      9\u001b[0m         \u001b[38;5;124m\"\u001b[39m\u001b[38;5;124mFeature: \u001b[39m\u001b[38;5;132;01m{}\u001b[39;00m\u001b[38;5;124m\"\u001b[39m\n\u001b[1;32m     10\u001b[0m         \u001b[38;5;241m.\u001b[39mformat(\n\u001b[0;32m---> 11\u001b[0m             MalwareDataset_drop\u001b[38;5;241m.\u001b[39mcolumns[\u001b[43mIndex\u001b[49m\u001b[43m[\u001b[49m\u001b[43mfeat\u001b[49m\u001b[43m]\u001b[49m]\n\u001b[1;32m     12\u001b[0m         )\n\u001b[1;32m     13\u001b[0m     )\n\u001b[1;32m     14\u001b[0m     \u001b[38;5;28mprint\u001b[39m(\u001b[38;5;124m\"\u001b[39m\u001b[38;5;124mImportance: \u001b[39m\u001b[38;5;132;01m{:.5f}\u001b[39;00m\u001b[38;5;124m\"\u001b[39m\u001b[38;5;241m.\u001b[39mformat(FI[Index[feat]]))\n\u001b[1;32m     15\u001b[0m     \u001b[38;5;28mprint\u001b[39m() \u001b[38;5;66;03m#  add new line\u001b[39;00m\n",
      "\u001b[0;31mIndexError\u001b[0m: index 14 is out of bounds for axis 0 with size 14"
     ]
    }
   ],
   "source": [
    "Features = X.shape[1]\n",
    "# Feature Importance\n",
    "FI = ExtraTreesClassifier().fit(X, y).feature_importances_\n",
    "# sorting importance\n",
    "Index = np.argsort(FI)[:-1][:Features]\n",
    "\n",
    "for feat in range(Features):\n",
    "    print(\n",
    "        \"Feature: {}\"\n",
    "        .format(\n",
    "            MalwareDataset_drop.columns[Index[feat]]\n",
    "        )\n",
    "    )\n",
    "    print(\"Importance: {:.5f}\".format(FI[Index[feat]]))\n",
    "    print() #  add new line"
   ]
  },
  {
   "cell_type": "code",
   "execution_count": null,
   "id": "dae387ce-389c-40a8-ab6e-4d78c4107b05",
   "metadata": {},
   "outputs": [],
   "source": [
    "Features"
   ]
  },
  {
   "cell_type": "code",
   "execution_count": null,
   "id": "81064990-8209-4546-bbcc-251345f41aee",
   "metadata": {},
   "outputs": [],
   "source": [
    "Index[::-1]"
   ]
  },
  {
   "cell_type": "code",
   "execution_count": null,
   "id": "fed4d906-b3aa-454e-ac27-56873c6177d8",
   "metadata": {},
   "outputs": [],
   "source": [
    "Index"
   ]
  },
  {
   "cell_type": "code",
   "execution_count": null,
   "id": "8f318d60-ba49-4c74-a956-d01ae138c6cd",
   "metadata": {},
   "outputs": [],
   "source": []
  }
 ],
 "metadata": {
  "kernelspec": {
   "display_name": "Python 3 (ipykernel)",
   "language": "python",
   "name": "python3"
  },
  "language_info": {
   "codemirror_mode": {
    "name": "ipython",
    "version": 3
   },
   "file_extension": ".py",
   "mimetype": "text/x-python",
   "name": "python",
   "nbconvert_exporter": "python",
   "pygments_lexer": "ipython3",
   "version": "3.10.12"
  }
 },
 "nbformat": 4,
 "nbformat_minor": 5
}
