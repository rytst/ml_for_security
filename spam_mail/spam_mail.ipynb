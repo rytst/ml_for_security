{
 "cells": [
  {
   "cell_type": "code",
   "execution_count": 1,
   "id": "6564413c-7557-470b-9baf-cc1240c63aec",
   "metadata": {},
   "outputs": [],
   "source": [
    "# scikit-learn\n",
    "from sklearn.metrics import accuracy_score\n",
    "from sklearn.model_selection import train_test_split\n",
    "from sklearn.model_selection import StratifiedKFold, cross_validate\n",
    "\n",
    "import polars as pl\n",
    "import numpy as np\n",
    "import optuna\n",
    "import codecs\n",
    "import os"
   ]
  },
  {
   "cell_type": "code",
   "execution_count": 2,
   "id": "a2728da7-8969-4b89-b048-335d6abe891c",
   "metadata": {},
   "outputs": [],
   "source": [
    "# create list of files of the specific directory\n",
    "def init_lists(folder):\n",
    "    key_list = []\n",
    "    file_list = os.listdir(folder)\n",
    "\n",
    "    for file in file_list:\n",
    "        f = codecs.open(folder + file, 'r', encoding=\"utf-8\", errors=\"ignore\")\n",
    "        key_list.append(f.read())\n",
    "    f.close()\n",
    "\n",
    "    return key_list"
   ]
  },
  {
   "cell_type": "code",
   "execution_count": 3,
   "id": "a72c8619-d9d9-4773-9a32-ad0416e66015",
   "metadata": {},
   "outputs": [],
   "source": [
    "spam = init_lists(\"../data/enron1/spam/\")\n",
    "ham  = init_lists(\"../data/enron1/ham/\")\n",
    "\n",
    "\n",
    "spam_data = {\"text\": spam, \"label\": np.ones(len(spam))}\n",
    "spam_df = pl.DataFrame(spam_data)\n",
    "\n",
    "ham_data = {\"text\": ham, \"label\": np.zeros(len(ham))}\n",
    "ham_df = pl.DataFrame(ham_data)"
   ]
  },
  {
   "cell_type": "code",
   "execution_count": 4,
   "id": "954272ca-7e09-4e90-a65a-f63f44a2779e",
   "metadata": {},
   "outputs": [
    {
     "data": {
      "text/html": [
       "<div><style>\n",
       ".dataframe > thead > tr,\n",
       ".dataframe > tbody > tr {\n",
       "  text-align: right;\n",
       "  white-space: pre-wrap;\n",
       "}\n",
       "</style>\n",
       "<small>shape: (5, 2)</small><table border=\"1\" class=\"dataframe\"><thead><tr><th>text</th><th>label</th></tr><tr><td>str</td><td>f64</td></tr></thead><tbody><tr><td>&quot;Subject: we can\r\n",
       "date : septem…</td><td>1.0</td></tr><tr><td>&quot;Subject: your pharmaceuticals …</td><td>1.0</td></tr><tr><td>&quot;Subject: our pro - forma invoi…</td><td>1.0</td></tr><tr><td>&quot;Subject: enhance your chest si…</td><td>1.0</td></tr><tr><td>&quot;Subject: doing clal 1 is , \\ /…</td><td>1.0</td></tr></tbody></table></div>"
      ],
      "text/plain": [
       "shape: (5, 2)\n",
       "┌─────────────────────────────────┬───────┐\n",
       "│ text                            ┆ label │\n",
       "│ ---                             ┆ ---   │\n",
       "│ str                             ┆ f64   │\n",
       "╞═════════════════════════════════╪═══════╡\n",
       "│ Subject: we can\n",
       "                ┆ 1.0   │\n",
       "│ date : septem…                  ┆       │\n",
       "│ Subject: your pharmaceuticals … ┆ 1.0   │\n",
       "│ Subject: our pro - forma invoi… ┆ 1.0   │\n",
       "│ Subject: enhance your chest si… ┆ 1.0   │\n",
       "│ Subject: doing clal 1 is , \\ /… ┆ 1.0   │\n",
       "└─────────────────────────────────┴───────┘"
      ]
     },
     "execution_count": 4,
     "metadata": {},
     "output_type": "execute_result"
    }
   ],
   "source": [
    "spam_df.head()"
   ]
  },
  {
   "cell_type": "code",
   "execution_count": 5,
   "id": "2bb0c186-296a-4054-b8e7-0ba86d39af56",
   "metadata": {},
   "outputs": [
    {
     "data": {
      "text/html": [
       "<div><style>\n",
       ".dataframe > thead > tr,\n",
       ".dataframe > tbody > tr {\n",
       "  text-align: right;\n",
       "  white-space: pre-wrap;\n",
       "}\n",
       "</style>\n",
       "<small>shape: (5, 2)</small><table border=\"1\" class=\"dataframe\"><thead><tr><th>text</th><th>label</th></tr><tr><td>str</td><td>f64</td></tr></thead><tbody><tr><td>&quot;Subject: txu nom . for 9 / 27 …</td><td>0.0</td></tr><tr><td>&quot;Subject: hpl nom for august 2 …</td><td>0.0</td></tr><tr><td>&quot;Subject: re : pg &amp; e texoma vo…</td><td>0.0</td></tr><tr><td>&quot;Subject: north central oil cor…</td><td>0.0</td></tr><tr><td>&quot;Subject: eastrans nomination c…</td><td>0.0</td></tr></tbody></table></div>"
      ],
      "text/plain": [
       "shape: (5, 2)\n",
       "┌─────────────────────────────────┬───────┐\n",
       "│ text                            ┆ label │\n",
       "│ ---                             ┆ ---   │\n",
       "│ str                             ┆ f64   │\n",
       "╞═════════════════════════════════╪═══════╡\n",
       "│ Subject: txu nom . for 9 / 27 … ┆ 0.0   │\n",
       "│ Subject: hpl nom for august 2 … ┆ 0.0   │\n",
       "│ Subject: re : pg & e texoma vo… ┆ 0.0   │\n",
       "│ Subject: north central oil cor… ┆ 0.0   │\n",
       "│ Subject: eastrans nomination c… ┆ 0.0   │\n",
       "└─────────────────────────────────┴───────┘"
      ]
     },
     "execution_count": 5,
     "metadata": {},
     "output_type": "execute_result"
    }
   ],
   "source": [
    "ham_df.head()"
   ]
  },
  {
   "cell_type": "code",
   "execution_count": 6,
   "id": "ee1c8e7c-db06-46c9-9af7-37ff3a461903",
   "metadata": {},
   "outputs": [],
   "source": [
    "df = pl.concat([\n",
    "    spam_df,\n",
    "    ham_df\n",
    "])"
   ]
  },
  {
   "cell_type": "code",
   "execution_count": 7,
   "id": "db6dfa83-1e35-473c-b722-f9eba048db3f",
   "metadata": {},
   "outputs": [
    {
     "data": {
      "text/html": [
       "<div><style>\n",
       ".dataframe > thead > tr,\n",
       ".dataframe > tbody > tr {\n",
       "  text-align: right;\n",
       "  white-space: pre-wrap;\n",
       "}\n",
       "</style>\n",
       "<small>shape: (5, 2)</small><table border=\"1\" class=\"dataframe\"><thead><tr><th>text</th><th>label</th></tr><tr><td>str</td><td>f64</td></tr></thead><tbody><tr><td>&quot;Subject: we can\r\n",
       "date : septem…</td><td>1.0</td></tr><tr><td>&quot;Subject: your pharmaceuticals …</td><td>1.0</td></tr><tr><td>&quot;Subject: our pro - forma invoi…</td><td>1.0</td></tr><tr><td>&quot;Subject: enhance your chest si…</td><td>1.0</td></tr><tr><td>&quot;Subject: doing clal 1 is , \\ /…</td><td>1.0</td></tr></tbody></table></div>"
      ],
      "text/plain": [
       "shape: (5, 2)\n",
       "┌─────────────────────────────────┬───────┐\n",
       "│ text                            ┆ label │\n",
       "│ ---                             ┆ ---   │\n",
       "│ str                             ┆ f64   │\n",
       "╞═════════════════════════════════╪═══════╡\n",
       "│ Subject: we can\n",
       "                ┆ 1.0   │\n",
       "│ date : septem…                  ┆       │\n",
       "│ Subject: your pharmaceuticals … ┆ 1.0   │\n",
       "│ Subject: our pro - forma invoi… ┆ 1.0   │\n",
       "│ Subject: enhance your chest si… ┆ 1.0   │\n",
       "│ Subject: doing clal 1 is , \\ /… ┆ 1.0   │\n",
       "└─────────────────────────────────┴───────┘"
      ]
     },
     "execution_count": 7,
     "metadata": {},
     "output_type": "execute_result"
    }
   ],
   "source": [
    "df.head()"
   ]
  },
  {
   "cell_type": "code",
   "execution_count": 8,
   "id": "3b0d0046-47b7-4fe9-8b20-2e2dad692492",
   "metadata": {},
   "outputs": [
    {
     "data": {
      "text/html": [
       "<div><style>\n",
       ".dataframe > thead > tr,\n",
       ".dataframe > tbody > tr {\n",
       "  text-align: right;\n",
       "  white-space: pre-wrap;\n",
       "}\n",
       "</style>\n",
       "<small>shape: (5, 2)</small><table border=\"1\" class=\"dataframe\"><thead><tr><th>text</th><th>label</th></tr><tr><td>str</td><td>f64</td></tr></thead><tbody><tr><td>&quot;Subject: ( see attached file :…</td><td>0.0</td></tr><tr><td>&quot;Subject: enron / hpl actuals f…</td><td>0.0</td></tr><tr><td>&quot;Subject: hpl nom for april 5 ,…</td><td>0.0</td></tr><tr><td>&quot;Subject: deal numbers\r\n",
       "hi darr…</td><td>0.0</td></tr><tr><td>&quot;Subject: october 2000 co - own…</td><td>0.0</td></tr></tbody></table></div>"
      ],
      "text/plain": [
       "shape: (5, 2)\n",
       "┌─────────────────────────────────┬───────┐\n",
       "│ text                            ┆ label │\n",
       "│ ---                             ┆ ---   │\n",
       "│ str                             ┆ f64   │\n",
       "╞═════════════════════════════════╪═══════╡\n",
       "│ Subject: ( see attached file :… ┆ 0.0   │\n",
       "│ Subject: enron / hpl actuals f… ┆ 0.0   │\n",
       "│ Subject: hpl nom for april 5 ,… ┆ 0.0   │\n",
       "│ Subject: deal numbers\n",
       "          ┆ 0.0   │\n",
       "│ hi darr…                        ┆       │\n",
       "│ Subject: october 2000 co - own… ┆ 0.0   │\n",
       "└─────────────────────────────────┴───────┘"
      ]
     },
     "execution_count": 8,
     "metadata": {},
     "output_type": "execute_result"
    }
   ],
   "source": [
    "df.tail()"
   ]
  },
  {
   "cell_type": "code",
   "execution_count": 9,
   "id": "fab75a6f-1214-4fad-9ac6-38519a5ea11e",
   "metadata": {},
   "outputs": [],
   "source": [
    "from sklearn.feature_extraction.text import TfidfVectorizer\n",
    "\n",
    "# initialize TfidfVectorizer\n",
    "# stop_words=\"english\" to exclude normal words\n",
    "tfidf = TfidfVectorizer(stop_words=\"english\")\n",
    "\n",
    "X = tfidf.fit_transform(df[\"text\"])\n",
    "column_names = tfidf.get_feature_names_out()"
   ]
  },
  {
   "cell_type": "code",
   "execution_count": 10,
   "id": "6506e947-15eb-437c-b9ff-e8161faa66e3",
   "metadata": {},
   "outputs": [
    {
     "name": "stdout",
     "output_type": "stream",
     "text": [
      "<Compressed Sparse Row sparse matrix of dtype 'float64'\n",
      "\twith 338578 stored elements and shape (5172, 50156)>\n",
      "  Coords\tValues\n",
      "  (0, 43351)\t0.007407901160568591\n",
      "  (0, 15236)\t0.029532988163197743\n",
      "  (0, 40987)\t0.032930065944703074\n",
      "  (0, 1193)\t0.026425996828139994\n",
      "  (0, 1124)\t0.03510621927557778\n",
      "  (0, 41718)\t0.04661874822135729\n",
      "  (0, 16066)\t0.06568162608765238\n",
      "  (0, 38525)\t0.26247855817318505\n",
      "  (0, 36573)\t0.1201874183957498\n",
      "  (0, 11913)\t0.1737102038291315\n",
      "  (0, 44205)\t0.12722959711393012\n",
      "  (0, 28782)\t0.3130799704918586\n",
      "  (0, 42444)\t0.03173063277637518\n",
      "  (0, 5411)\t0.05883184836722746\n",
      "  (0, 31189)\t0.052346462491742\n",
      "  (0, 6032)\t0.05883184836722746\n",
      "  (0, 30309)\t0.046909291387843804\n",
      "  (0, 11803)\t0.04633917160189291\n",
      "  (0, 36574)\t0.05883184836722746\n",
      "  (0, 44171)\t0.05748122829505686\n",
      "  (0, 20830)\t0.04255502587074866\n",
      "  (0, 40159)\t0.030798945586312753\n",
      "  (0, 19576)\t0.06261599409837171\n",
      "  (0, 16270)\t0.11070021587333306\n",
      "  (0, 21780)\t0.05069343711898806\n",
      "  :\t:\n",
      "  (5171, 34365)\t0.09569144407012325\n",
      "  (5171, 97)\t0.05651153516654189\n",
      "  (5171, 2268)\t0.08338168643541723\n",
      "  (5171, 214)\t0.2404487433227542\n",
      "  (5171, 33463)\t0.2935585091048088\n",
      "  (5171, 270)\t0.10649994560517269\n",
      "  (5171, 35944)\t0.045315403237481205\n",
      "  (5171, 2731)\t0.08415836522493969\n",
      "  (5171, 2655)\t0.08846505320575655\n",
      "  (5171, 17846)\t0.19094603474600141\n",
      "  (5171, 11226)\t0.16194927632490422\n",
      "  (5171, 24319)\t0.1451053296704677\n",
      "  (5171, 32364)\t0.14637389047815041\n",
      "  (5171, 8921)\t0.19328983223260118\n",
      "  (5171, 42999)\t0.15152606997545964\n",
      "  (5171, 24101)\t0.09600347114668745\n",
      "  (5171, 39635)\t0.16676337287083445\n",
      "  (5171, 20949)\t0.09481988746459521\n",
      "  (5171, 49251)\t0.057607705699868665\n",
      "  (5171, 47623)\t0.12014520804185964\n",
      "  (5171, 21432)\t0.06794488962704269\n",
      "  (5171, 18644)\t0.039187819317141964\n",
      "  (5171, 8502)\t0.19819576593797025\n",
      "  (5171, 7748)\t0.34322893948815997\n",
      "  (5171, 8918)\t0.116335744626516\n"
     ]
    }
   ],
   "source": [
    "print(X)"
   ]
  },
  {
   "cell_type": "code",
   "execution_count": 11,
   "id": "740feea9-fecb-45d2-abe4-ccf16dcfb5ac",
   "metadata": {},
   "outputs": [],
   "source": [
    "X = pl.DataFrame(X.toarray())\n",
    "X = X.cast(pl.Float32)"
   ]
  },
  {
   "cell_type": "code",
   "execution_count": 12,
   "id": "137b1ae3-da21-49e4-9ece-c88c13a7fc4d",
   "metadata": {},
   "outputs": [],
   "source": [
    "X.columns = column_names"
   ]
  },
  {
   "cell_type": "code",
   "execution_count": 13,
   "id": "de42d44d-9632-482e-bac9-6ab5aede5630",
   "metadata": {},
   "outputs": [],
   "source": [
    "y = df[\"label\"].cast(pl.Float32)"
   ]
  },
  {
   "cell_type": "code",
   "execution_count": 14,
   "id": "997a51db-2660-4211-accc-f7fc1173849b",
   "metadata": {},
   "outputs": [
    {
     "data": {
      "text/html": [
       "<div><style>\n",
       ".dataframe > thead > tr,\n",
       ".dataframe > tbody > tr {\n",
       "  text-align: right;\n",
       "  white-space: pre-wrap;\n",
       "}\n",
       "</style>\n",
       "<small>shape: (10,)</small><table border=\"1\" class=\"dataframe\"><thead><tr><th>label</th></tr><tr><td>f32</td></tr></thead><tbody><tr><td>1.0</td></tr><tr><td>1.0</td></tr><tr><td>1.0</td></tr><tr><td>1.0</td></tr><tr><td>1.0</td></tr><tr><td>1.0</td></tr><tr><td>1.0</td></tr><tr><td>1.0</td></tr><tr><td>1.0</td></tr><tr><td>1.0</td></tr></tbody></table></div>"
      ],
      "text/plain": [
       "shape: (10,)\n",
       "Series: 'label' [f32]\n",
       "[\n",
       "\t1.0\n",
       "\t1.0\n",
       "\t1.0\n",
       "\t1.0\n",
       "\t1.0\n",
       "\t1.0\n",
       "\t1.0\n",
       "\t1.0\n",
       "\t1.0\n",
       "\t1.0\n",
       "]"
      ]
     },
     "execution_count": 14,
     "metadata": {},
     "output_type": "execute_result"
    }
   ],
   "source": [
    "y.head()"
   ]
  },
  {
   "cell_type": "markdown",
   "id": "0ebd2a6c-847f-4955-8844-f7d690dbfb5b",
   "metadata": {},
   "source": [
    "## Hyper parameter tuning"
   ]
  },
  {
   "cell_type": "code",
   "execution_count": 15,
   "id": "d5ef7e50-8adb-4df3-b39b-01b2eeebb2cf",
   "metadata": {},
   "outputs": [],
   "source": [
    "# LightGBM\n",
    "import lightgbm as lgb\n",
    "\n",
    "X_train, X_test, y_train, y_test = train_test_split(X, y, test_size=0.2, shuffle=True, random_state=42)"
   ]
  },
  {
   "cell_type": "code",
   "execution_count": 16,
   "id": "8b3fe1bc-fcd3-479c-bb2c-770f47e52261",
   "metadata": {},
   "outputs": [],
   "source": [
    "class Objective:\n",
    "    def __init__(self, X, y):\n",
    "        self.X = X\n",
    "        self.y = y\n",
    "    \n",
    "    def __call__(self, trial):\n",
    "\n",
    "        param = {\n",
    "            \"objective\": \"binary\",\n",
    "            \"metric\": \"binary_logloss\",\n",
    "            \"verbosity\": -1,\n",
    "            \"boosting_type\": \"gbdt\",\n",
    "            \"lambda_l1\": trial.suggest_float(\"lambda_l1\", 1e-8, 10.0, log=True),\n",
    "            \"lambda_l2\": trial.suggest_float(\"lambda_l2\", 1e-8, 10.0, log=True),\n",
    "            \"num_leaves\": trial.suggest_int(\"num_leaves\", 2, 256),\n",
    "            \"feature_fraction\": trial.suggest_float(\"feature_fraction\", 0.4, 1.0),\n",
    "            \"bagging_fraction\": trial.suggest_float(\"bagging_fraction\", 0.4, 1.0),\n",
    "            \"bagging_freq\": trial.suggest_int(\"bagging_freq\", 1, 7),\n",
    "            \"min_child_samples\": trial.suggest_int(\"min_child_samples\", 5, 100),\n",
    "        }\n",
    "\n",
    "        # Stratified K-Fold Cross Validation\n",
    "        k = 5\n",
    "        skf = StratifiedKFold(n_splits=k)\n",
    "\n",
    "        score = 0\n",
    "        for train_idx, test_idx in skf.split(self.X, self.y):\n",
    "            dtrain = lgb.Dataset(self.X[train_idx], label=self.y[train_idx])\n",
    "            gbm = lgb.train(param, dtrain)\n",
    "            preds = gbm.predict(self.X[test_idx])\n",
    "            pred_labels = np.rint(preds)\n",
    "            accuracy = accuracy_score(self.y[test_idx], pred_labels)\n",
    "            score += accuracy\n",
    "        \n",
    "        score = score / k # mean value\n",
    "        \n",
    "        return score"
   ]
  },
  {
   "cell_type": "code",
   "execution_count": 17,
   "id": "6006f72e-95d7-43c6-826d-aa1f4a5a9ab0",
   "metadata": {},
   "outputs": [
    {
     "name": "stderr",
     "output_type": "stream",
     "text": [
      "[I 2024-10-05 00:49:40,096] A new study created in memory with name: no-name-b68e86a5-55ff-4ca8-9b0f-ee4e45c4f9e9\n",
      "/home/rytst/dev/ml_for_security/venv/lib/python3.12/site-packages/lightgbm/basic.py:1218: UserWarning: Converting data to scipy sparse matrix.\n",
      "  _log_warning(\"Converting data to scipy sparse matrix.\")\n",
      "/home/rytst/dev/ml_for_security/venv/lib/python3.12/site-packages/lightgbm/basic.py:1218: UserWarning: Converting data to scipy sparse matrix.\n",
      "  _log_warning(\"Converting data to scipy sparse matrix.\")\n",
      "/home/rytst/dev/ml_for_security/venv/lib/python3.12/site-packages/lightgbm/basic.py:1218: UserWarning: Converting data to scipy sparse matrix.\n",
      "  _log_warning(\"Converting data to scipy sparse matrix.\")\n",
      "/home/rytst/dev/ml_for_security/venv/lib/python3.12/site-packages/lightgbm/basic.py:1218: UserWarning: Converting data to scipy sparse matrix.\n",
      "  _log_warning(\"Converting data to scipy sparse matrix.\")\n",
      "/home/rytst/dev/ml_for_security/venv/lib/python3.12/site-packages/lightgbm/basic.py:1218: UserWarning: Converting data to scipy sparse matrix.\n",
      "  _log_warning(\"Converting data to scipy sparse matrix.\")\n",
      "[I 2024-10-05 00:49:57,087] Trial 0 finished with value: 0.9538291011688834 and parameters: {'lambda_l1': 0.0010235707983243026, 'lambda_l2': 2.0972014875643354e-07, 'num_leaves': 141, 'feature_fraction': 0.9521340593079405, 'bagging_fraction': 0.6614231042653225, 'bagging_freq': 4, 'min_child_samples': 75}. Best is trial 0 with value: 0.9538291011688834.\n",
      "/home/rytst/dev/ml_for_security/venv/lib/python3.12/site-packages/lightgbm/basic.py:1218: UserWarning: Converting data to scipy sparse matrix.\n",
      "  _log_warning(\"Converting data to scipy sparse matrix.\")\n",
      "/home/rytst/dev/ml_for_security/venv/lib/python3.12/site-packages/lightgbm/basic.py:1218: UserWarning: Converting data to scipy sparse matrix.\n",
      "  _log_warning(\"Converting data to scipy sparse matrix.\")\n",
      "/home/rytst/dev/ml_for_security/venv/lib/python3.12/site-packages/lightgbm/basic.py:1218: UserWarning: Converting data to scipy sparse matrix.\n",
      "  _log_warning(\"Converting data to scipy sparse matrix.\")\n",
      "/home/rytst/dev/ml_for_security/venv/lib/python3.12/site-packages/lightgbm/basic.py:1218: UserWarning: Converting data to scipy sparse matrix.\n",
      "  _log_warning(\"Converting data to scipy sparse matrix.\")\n",
      "/home/rytst/dev/ml_for_security/venv/lib/python3.12/site-packages/lightgbm/basic.py:1218: UserWarning: Converting data to scipy sparse matrix.\n",
      "  _log_warning(\"Converting data to scipy sparse matrix.\")\n",
      "[I 2024-10-05 00:50:14,201] Trial 1 finished with value: 0.9528658383424169 and parameters: {'lambda_l1': 1.3358896818329141e-05, 'lambda_l2': 0.000427079024402116, 'num_leaves': 228, 'feature_fraction': 0.6485817902017222, 'bagging_fraction': 0.4696979388483856, 'bagging_freq': 1, 'min_child_samples': 59}. Best is trial 0 with value: 0.9538291011688834.\n",
      "/home/rytst/dev/ml_for_security/venv/lib/python3.12/site-packages/lightgbm/basic.py:1218: UserWarning: Converting data to scipy sparse matrix.\n",
      "  _log_warning(\"Converting data to scipy sparse matrix.\")\n",
      "/home/rytst/dev/ml_for_security/venv/lib/python3.12/site-packages/lightgbm/basic.py:1218: UserWarning: Converting data to scipy sparse matrix.\n",
      "  _log_warning(\"Converting data to scipy sparse matrix.\")\n",
      "/home/rytst/dev/ml_for_security/venv/lib/python3.12/site-packages/lightgbm/basic.py:1218: UserWarning: Converting data to scipy sparse matrix.\n",
      "  _log_warning(\"Converting data to scipy sparse matrix.\")\n",
      "/home/rytst/dev/ml_for_security/venv/lib/python3.12/site-packages/lightgbm/basic.py:1218: UserWarning: Converting data to scipy sparse matrix.\n",
      "  _log_warning(\"Converting data to scipy sparse matrix.\")\n",
      "/home/rytst/dev/ml_for_security/venv/lib/python3.12/site-packages/lightgbm/basic.py:1218: UserWarning: Converting data to scipy sparse matrix.\n",
      "  _log_warning(\"Converting data to scipy sparse matrix.\")\n",
      "[I 2024-10-05 00:50:33,245] Trial 2 finished with value: 0.9654352791359259 and parameters: {'lambda_l1': 0.00021108281193396865, 'lambda_l2': 4.439672035192966e-08, 'num_leaves': 63, 'feature_fraction': 0.9104420157865489, 'bagging_fraction': 0.9410530615795872, 'bagging_freq': 6, 'min_child_samples': 70}. Best is trial 2 with value: 0.9654352791359259.\n",
      "/home/rytst/dev/ml_for_security/venv/lib/python3.12/site-packages/lightgbm/basic.py:1218: UserWarning: Converting data to scipy sparse matrix.\n",
      "  _log_warning(\"Converting data to scipy sparse matrix.\")\n",
      "/home/rytst/dev/ml_for_security/venv/lib/python3.12/site-packages/lightgbm/basic.py:1218: UserWarning: Converting data to scipy sparse matrix.\n",
      "  _log_warning(\"Converting data to scipy sparse matrix.\")\n",
      "/home/rytst/dev/ml_for_security/venv/lib/python3.12/site-packages/lightgbm/basic.py:1218: UserWarning: Converting data to scipy sparse matrix.\n",
      "  _log_warning(\"Converting data to scipy sparse matrix.\")\n",
      "/home/rytst/dev/ml_for_security/venv/lib/python3.12/site-packages/lightgbm/basic.py:1218: UserWarning: Converting data to scipy sparse matrix.\n",
      "  _log_warning(\"Converting data to scipy sparse matrix.\")\n",
      "/home/rytst/dev/ml_for_security/venv/lib/python3.12/site-packages/lightgbm/basic.py:1218: UserWarning: Converting data to scipy sparse matrix.\n",
      "  _log_warning(\"Converting data to scipy sparse matrix.\")\n",
      "[I 2024-10-05 00:50:55,430] Trial 3 finished with value: 0.9576988007407019 and parameters: {'lambda_l1': 0.006691595746290019, 'lambda_l2': 8.15802787758274e-06, 'num_leaves': 174, 'feature_fraction': 0.9883406207105786, 'bagging_fraction': 0.8550128780453762, 'bagging_freq': 7, 'min_child_samples': 85}. Best is trial 2 with value: 0.9654352791359259.\n"
     ]
    }
   ],
   "source": [
    "objective = Objective(X_train, np.array(y_train))\n",
    "study = optuna.create_study(direction=\"maximize\")\n",
    "study.optimize(objective, timeout=60)"
   ]
  },
  {
   "cell_type": "code",
   "execution_count": 18,
   "id": "9b7c3ce8-124f-4630-819b-e742d2e38948",
   "metadata": {},
   "outputs": [
    {
     "data": {
      "text/plain": [
       "{'lambda_l1': 0.00021108281193396865,\n",
       " 'lambda_l2': 4.439672035192966e-08,\n",
       " 'num_leaves': 63,\n",
       " 'feature_fraction': 0.9104420157865489,\n",
       " 'bagging_fraction': 0.9410530615795872,\n",
       " 'bagging_freq': 6,\n",
       " 'min_child_samples': 70}"
      ]
     },
     "execution_count": 18,
     "metadata": {},
     "output_type": "execute_result"
    }
   ],
   "source": [
    "study.best_params"
   ]
  },
  {
   "cell_type": "code",
   "execution_count": 19,
   "id": "ed3ade28-ccc1-4edc-aa56-1140ebb792eb",
   "metadata": {},
   "outputs": [],
   "source": [
    "param = {\n",
    "    \"objective\": \"binary\",\n",
    "    \"metric\": \"binary_logloss\",\n",
    "    \"verbosity\": -1,\n",
    "    \"boosting_type\": \"gbdt\",\n",
    "    \"lambda_l1\": study.best_params[\"lambda_l1\"],\n",
    "    \"lambda_l2\": study.best_params[\"lambda_l2\"],\n",
    "    \"num_leaves\": study.best_params[\"num_leaves\"],\n",
    "    \"feature_fraction\": study.best_params[\"feature_fraction\"],\n",
    "    \"bagging_fraction\": study.best_params[\"bagging_fraction\"],\n",
    "    \"bagging_freq\": study.best_params[\"bagging_freq\"],\n",
    "    \"min_child_samples\": study.best_params[\"min_child_samples\"],\n",
    "}\n",
    "\n",
    "train_data = lgb.Dataset(X_train, np.array(y_train), feature_name=X_train.columns)\n",
    "\n",
    "gbm = lgb.train(\n",
    "    param,\n",
    "    train_data,\n",
    "    num_boost_round=100,\n",
    ")"
   ]
  },
  {
   "cell_type": "code",
   "execution_count": 20,
   "id": "964bb956-3f64-4cca-a1c3-6f699b260248",
   "metadata": {},
   "outputs": [
    {
     "name": "stderr",
     "output_type": "stream",
     "text": [
      "/home/rytst/dev/ml_for_security/venv/lib/python3.12/site-packages/lightgbm/basic.py:1218: UserWarning: Converting data to scipy sparse matrix.\n",
      "  _log_warning(\"Converting data to scipy sparse matrix.\")\n"
     ]
    },
    {
     "name": "stdout",
     "output_type": "stream",
     "text": [
      "Accuracy: 0.9690821256038648\n",
      "[[702  18]\n",
      " [ 14 301]]\n"
     ]
    }
   ],
   "source": [
    "preds = gbm.predict(X_test)\n",
    "pred_labels = np.rint(preds)\n",
    "print(\"Accuracy: {}\".format(accuracy_score(y_test, pred_labels)))\n",
    "\n",
    "from sklearn.metrics import confusion_matrix\n",
    "print(confusion_matrix(y_test, pred_labels))"
   ]
  },
  {
   "cell_type": "code",
   "execution_count": 21,
   "id": "42ea0b79-d9ec-4e34-a404-7059d3ee0f2e",
   "metadata": {},
   "outputs": [
    {
     "data": {
      "image/png": "[encoded data removed]",
      "text/plain": [
       "<Figure size 1200x600 with 1 Axes>"
      ]
     },
     "metadata": {},
     "output_type": "display_data"
    }
   ],
   "source": [
    "import matplotlib.pyplot as plt\n",
    "\n",
    "lgb.plot_importance(gbm, figsize=(12, 6), max_num_features=20)\n",
    "plt.show()"
   ]
  },
  {
   "cell_type": "code",
   "execution_count": 22,
   "id": "9ce4904f-ac52-4616-99db-f37a559c3d78",
   "metadata": {},
   "outputs": [
    {
     "name": "stdout",
     "output_type": "stream",
     "text": [
      "160\n"
     ]
    }
   ],
   "source": [
    "# \"subject\" word in spam mail\n",
    "\n",
    "count = 0\n",
    "for i in spam_data[\"text\"]:\n",
    "    count = count + i.count(\"subject\")\n",
    "\n",
    "print(count)"
   ]
  },
  {
   "cell_type": "code",
   "execution_count": 23,
   "id": "10e4e91f-4593-4e66-9b47-4dd38f0bbb20",
   "metadata": {},
   "outputs": [
    {
     "name": "stdout",
     "output_type": "stream",
     "text": [
      "2733\n"
     ]
    }
   ],
   "source": [
    "# subject word in ham mail\n",
    "\n",
    "count = 0\n",
    "for i in ham_df[\"text\"]:\n",
    "    count = count + i.count(\"subject\")\n",
    "\n",
    "print(count)"
   ]
  },
  {
   "cell_type": "code",
   "execution_count": null,
   "id": "f43920cd-e15f-4e48-b541-d58608067e61",
   "metadata": {},
   "outputs": [],
   "source": []
  }
 ],
 "metadata": {
  "kernelspec": {
   "display_name": "Python 3 (ipykernel)",
   "language": "python",
   "name": "python3"
  },
  "language_info": {
   "codemirror_mode": {
    "name": "ipython",
    "version": 3
   },
   "file_extension": ".py",
   "mimetype": "text/x-python",
   "name": "python",
   "nbconvert_exporter": "python",
   "pygments_lexer": "ipython3",
   "version": "3.12.6"
  }
 },
 "nbformat": 4,
 "nbformat_minor": 5
}
